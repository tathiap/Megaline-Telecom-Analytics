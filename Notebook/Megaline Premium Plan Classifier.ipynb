{
 "cells": [
  {
   "cell_type": "markdown",
   "metadata": {},
   "source": [
    "# Megaline Premium Plan Classifier: Predicting User Subscription Behavior "
   ]
  },
  {
   "cell_type": "markdown",
   "metadata": {},
   "source": [
    "### Introduction \n",
    "In today’s competitive telecom industry, understanding customer behavior is essential for targeted marketing, retention strategies, and optimized service offerings. Megaline, a telecom provider, offers two main prepaid plans Surf and Ultra. While the Ultra plan provides more data and minutes at a higher cost, not all users who could benefit from it are subscribing. This project uses machine learning techniques to analyze user behavior patterns such as call minutes, messages, and internet usage to predict which users are likely to subscribe to the Ultra plan. By identifying patterns in premium plan adoption, the company can improve customer segmentation and guide strategic marketing decisions.\n",
    "\n",
    "### Objective\n",
    "The primary objective of this project is to build and evaluate classification models that can accurately predict whether a user subscribes to the Ultra plan based on their monthly usage data. This includes:\n",
    "\n",
    "* Cleaning and preparing real-world usage data for modeling.\n",
    "* Training and comparing multiple supervised learning algorithms.\n",
    "* Interpreting model results to derive actionable business insights.\n",
    "* Visualizing feature importance and behavioral patterns.\n",
    "* Simulating usage trends for light forecasting and business impact analysis.\n",
    "\n",
    "### Hypotheses\n",
    "H₀ (Null Hypothesis): There is no significant difference in user behavior between Ultra and Surf plan subscribers. Usage features do not meaningfully predict plan type.\n",
    "\n",
    "H₁ (Alternative Hypothesis): There is a significant difference in behavior between Ultra and Surf plan users. Usage patterns (calls, messages, internet data) can be used to accurately predict Ultra plan subscribers.\n",
    "\n"
   ]
  },
  {
   "cell_type": "code",
   "execution_count": 1,
   "metadata": {},
   "outputs": [],
   "source": [
    "import warnings\n",
    "from pathlib import Path\n",
    "\n",
    "import pandas as pd\n",
    "import matplotlib.pyplot as plt\n",
    "import seaborn as sns\n",
    "\n",
    "from sklearn.model_selection import train_test_split, GridSearchCV\n",
    "from sklearn.metrics import classification_report, confusion_matrix, accuracy_score\n",
    "from sklearn.tree import DecisionTreeClassifier\n",
    "from sklearn.ensemble import RandomForestClassifier, GradientBoostingClassifier\n",
    "from sklearn.linear_model import LogisticRegression\n",
    "from sklearn.preprocessing import StandardScaler\n",
    "from sklearn.svm import SVC"
   ]
  },
  {
   "cell_type": "code",
   "execution_count": 2,
   "metadata": {},
   "outputs": [
    {
     "name": "stdout",
     "output_type": "stream",
     "text": [
      "PROJECT_ROOT: /Users/tathianicol/Desktop/Analyst/Megaline Telecom\n"
     ]
    }
   ],
   "source": [
    "# Define paths dynamically\n",
    "CWD = Path.cwd()\n",
    "CANDIDATES = [CWD, CWD.parent, CWD.parent.parent]\n",
    "PROJECT_ROOT = None\n",
    "for p in CANDIDATES:\n",
    "    if (p / \"dataset\").exists() or (p / \"README.md\").exists():\n",
    "        PROJECT_ROOT = p\n",
    "        break\n",
    "if PROJECT_ROOT is None:\n",
    "    raise RuntimeError(\"Could not locate project root. Make sure you have a 'data/' folder or README.md at repo root.\")\n",
    "\n",
    "DATA_DIR = PROJECT_ROOT / \"dataset\"\n",
    "SQL_DIR  = PROJECT_ROOT / \"sql\"\n",
    "print(\"PROJECT_ROOT:\", PROJECT_ROOT)"
   ]
  },
  {
   "cell_type": "code",
   "execution_count": 3,
   "metadata": {},
   "outputs": [
    {
     "data": {
      "text/html": [
       "<div>\n",
       "<style scoped>\n",
       "    .dataframe tbody tr th:only-of-type {\n",
       "        vertical-align: middle;\n",
       "    }\n",
       "\n",
       "    .dataframe tbody tr th {\n",
       "        vertical-align: top;\n",
       "    }\n",
       "\n",
       "    .dataframe thead th {\n",
       "        text-align: right;\n",
       "    }\n",
       "</style>\n",
       "<table border=\"1\" class=\"dataframe\">\n",
       "  <thead>\n",
       "    <tr style=\"text-align: right;\">\n",
       "      <th></th>\n",
       "      <th>calls</th>\n",
       "      <th>minutes</th>\n",
       "      <th>messages</th>\n",
       "      <th>mb_used</th>\n",
       "      <th>is_ultra</th>\n",
       "    </tr>\n",
       "  </thead>\n",
       "  <tbody>\n",
       "    <tr>\n",
       "      <th>0</th>\n",
       "      <td>40.0</td>\n",
       "      <td>311.90</td>\n",
       "      <td>83.0</td>\n",
       "      <td>19915.42</td>\n",
       "      <td>0</td>\n",
       "    </tr>\n",
       "    <tr>\n",
       "      <th>1</th>\n",
       "      <td>85.0</td>\n",
       "      <td>516.75</td>\n",
       "      <td>56.0</td>\n",
       "      <td>22696.96</td>\n",
       "      <td>0</td>\n",
       "    </tr>\n",
       "    <tr>\n",
       "      <th>2</th>\n",
       "      <td>77.0</td>\n",
       "      <td>467.66</td>\n",
       "      <td>86.0</td>\n",
       "      <td>21060.45</td>\n",
       "      <td>0</td>\n",
       "    </tr>\n",
       "    <tr>\n",
       "      <th>3</th>\n",
       "      <td>106.0</td>\n",
       "      <td>745.53</td>\n",
       "      <td>81.0</td>\n",
       "      <td>8437.39</td>\n",
       "      <td>1</td>\n",
       "    </tr>\n",
       "    <tr>\n",
       "      <th>4</th>\n",
       "      <td>66.0</td>\n",
       "      <td>418.74</td>\n",
       "      <td>1.0</td>\n",
       "      <td>14502.75</td>\n",
       "      <td>0</td>\n",
       "    </tr>\n",
       "  </tbody>\n",
       "</table>\n",
       "</div>"
      ],
      "text/plain": [
       "   calls  minutes  messages   mb_used  is_ultra\n",
       "0   40.0   311.90      83.0  19915.42         0\n",
       "1   85.0   516.75      56.0  22696.96         0\n",
       "2   77.0   467.66      86.0  21060.45         0\n",
       "3  106.0   745.53      81.0   8437.39         1\n",
       "4   66.0   418.74       1.0  14502.75         0"
      ]
     },
     "execution_count": 3,
     "metadata": {},
     "output_type": "execute_result"
    }
   ],
   "source": [
    "#Import & Prep Data\n",
    "\n",
    "csv_path = DATA_DIR / \"users_behavior.csv\"\n",
    "if not csv_path.exists():\n",
    "    raise FileNotFoundError(f\"Couldn't find {csv_path}. Is the file in data/?\")\n",
    "\n",
    "# Import & Prep Data\n",
    "data = pd.read_csv(csv_path)\n",
    "\n",
    "# Basic clean\n",
    "data = data.drop_duplicates().dropna()\n",
    "\n",
    "data.head()"
   ]
  },
  {
   "cell_type": "code",
   "execution_count": 4,
   "metadata": {
    "scrolled": true
   },
   "outputs": [
    {
     "data": {
      "image/png": "[encoded data removed]",
      "text/plain": [
       "<Figure size 1200x400 with 1 Axes>"
      ]
     },
     "metadata": {},
     "output_type": "display_data"
    }
   ],
   "source": [
    "# Simulate Forecasting Trends\n",
    "data['month_index'] = data.index // 100\n",
    "avg_usage = data.groupby('month_index')[['minutes', 'messages', 'mb_used']].mean().reset_index()\n",
    "plt.figure(figsize=(12, 4))\n",
    "for col in ['minutes', 'messages', 'mb_used']:\n",
    "    plt.plot(avg_usage['month_index'], avg_usage[col], marker='o', label=col)\n",
    "plt.title(\"Simulated Monthly Average Usage Trends\")\n",
    "plt.xlabel(\"Month Index\")\n",
    "plt.ylabel(\"Average Usage\")\n",
    "plt.legend()\n",
    "plt.grid(True)\n",
    "plt.tight_layout()\n",
    "plt.show()"
   ]
  },
  {
   "cell_type": "markdown",
   "metadata": {},
   "source": [
    "To approximate user behavior trends, users were grouped in increments of 100 to create a pseudo month index. Average usage of minutes, messages, and data (MB) was plotted across these cohorts. The results show that all three metrics remained relatively stable, with only minor fluctuations, suggesting consistent engagement patterns among users. This simple grouping method provides a lightweight way to visualize potential usage trends when formal time-series data is unavailable."
   ]
  },
  {
   "cell_type": "code",
   "execution_count": 5,
   "metadata": {},
   "outputs": [
    {
     "data": {
      "text/html": [
       "<div>\n",
       "<style scoped>\n",
       "    .dataframe tbody tr th:only-of-type {\n",
       "        vertical-align: middle;\n",
       "    }\n",
       "\n",
       "    .dataframe tbody tr th {\n",
       "        vertical-align: top;\n",
       "    }\n",
       "\n",
       "    .dataframe thead th {\n",
       "        text-align: right;\n",
       "    }\n",
       "</style>\n",
       "<table border=\"1\" class=\"dataframe\">\n",
       "  <thead>\n",
       "    <tr style=\"text-align: right;\">\n",
       "      <th></th>\n",
       "      <th>Set</th>\n",
       "      <th>Features Shape</th>\n",
       "      <th>Target Shape</th>\n",
       "    </tr>\n",
       "  </thead>\n",
       "  <tbody>\n",
       "    <tr>\n",
       "      <th>0</th>\n",
       "      <td>Train</td>\n",
       "      <td>(2571, 5)</td>\n",
       "      <td>(2571,)</td>\n",
       "    </tr>\n",
       "    <tr>\n",
       "      <th>1</th>\n",
       "      <td>Validation</td>\n",
       "      <td>(321, 5)</td>\n",
       "      <td>(321,)</td>\n",
       "    </tr>\n",
       "    <tr>\n",
       "      <th>2</th>\n",
       "      <td>Test</td>\n",
       "      <td>(322, 5)</td>\n",
       "      <td>(322,)</td>\n",
       "    </tr>\n",
       "  </tbody>\n",
       "</table>\n",
       "</div>"
      ],
      "text/plain": [
       "          Set Features Shape Target Shape\n",
       "0       Train      (2571, 5)      (2571,)\n",
       "1  Validation       (321, 5)       (321,)\n",
       "2        Test       (322, 5)       (322,)"
      ]
     },
     "execution_count": 5,
     "metadata": {},
     "output_type": "execute_result"
    }
   ],
   "source": [
    "# Split Data \n",
    "# Split the data\n",
    "X = data.drop('is_ultra', axis=1)\n",
    "y = data['is_ultra']\n",
    "X_train, X_temp, y_train, y_temp = train_test_split(X, y, test_size=0.2, random_state=42)\n",
    "X_val, X_test, y_val, y_test = train_test_split(X_temp, y_temp, test_size=0.5, random_state=42)\n",
    "\n",
    "pd.DataFrame({\n",
    "    \"Set\": [\"Train\", \"Validation\", \"Test\"],\n",
    "    \"Features Shape\": [X_train.shape, X_val.shape, X_test.shape],\n",
    "    \"Target Shape\": [y_train.shape, y_val.shape, y_test.shape]\n",
    "})\n"
   ]
  },
  {
   "cell_type": "markdown",
   "metadata": {},
   "source": [
    "The dataset was split into training (80%), validation (10%), and test (10%) sets to ensure unbiased evaluation. The training set was used for learning patterns in user behavior, the validation set for hyperparameter tuning and model selection, and the test set for final performance assessment on unseen data. This approach reduces the risk of overfitting and ensures the model’s results generalize well to new users."
   ]
  },
  {
   "cell_type": "code",
   "execution_count": 6,
   "metadata": {},
   "outputs": [],
   "source": [
    "# Scale features\n",
    "scaler = StandardScaler()\n",
    "X_train = scaler.fit_transform(X_train)\n",
    "X_val = scaler.transform(X_val)\n",
    "X_test = scaler.transform(X_test)\n",
    "X = data.drop('is_ultra', axis=1)\n",
    "feature_names = X.columns.tolist()"
   ]
  },
  {
   "cell_type": "code",
   "execution_count": 7,
   "metadata": {},
   "outputs": [
    {
     "data": {
      "text/html": [
       "<div>\n",
       "<style scoped>\n",
       "    .dataframe tbody tr th:only-of-type {\n",
       "        vertical-align: middle;\n",
       "    }\n",
       "\n",
       "    .dataframe tbody tr th {\n",
       "        vertical-align: top;\n",
       "    }\n",
       "\n",
       "    .dataframe thead th {\n",
       "        text-align: right;\n",
       "    }\n",
       "</style>\n",
       "<table border=\"1\" class=\"dataframe\">\n",
       "  <thead>\n",
       "    <tr style=\"text-align: right;\">\n",
       "      <th></th>\n",
       "      <th>Model</th>\n",
       "      <th>Accuracy</th>\n",
       "      <th>Precision (Ultra)</th>\n",
       "      <th>Recall (Ultra)</th>\n",
       "      <th>F1-score (Ultra)</th>\n",
       "    </tr>\n",
       "  </thead>\n",
       "  <tbody>\n",
       "    <tr>\n",
       "      <th>0</th>\n",
       "      <td>Support Vector Machine</td>\n",
       "      <td>0.69</td>\n",
       "      <td>0.43</td>\n",
       "      <td>0.5</td>\n",
       "      <td>0.46</td>\n",
       "    </tr>\n",
       "  </tbody>\n",
       "</table>\n",
       "</div>"
      ],
      "text/plain": [
       "                    Model  Accuracy  Precision (Ultra)  Recall (Ultra)  \\\n",
       "0  Support Vector Machine      0.69               0.43             0.5   \n",
       "\n",
       "   F1-score (Ultra)  \n",
       "0              0.46  "
      ]
     },
     "metadata": {},
     "output_type": "display_data"
    }
   ],
   "source": [
    "# Model Training \n",
    "# Define models and parameters\n",
    "models = {\n",
    "    'Decision Tree': (DecisionTreeClassifier(), {\n",
    "        'max_depth': [5],\n",
    "        'min_samples_split': [2],\n",
    "        'min_samples_leaf': [2]\n",
    "    }),\n",
    "    'Random Forest': (RandomForestClassifier(), {\n",
    "        'n_estimators': [50],\n",
    "        'max_depth': [10],\n",
    "        'min_samples_split': [5]\n",
    "    }),\n",
    "    'Logistic Regression': (LogisticRegression(max_iter=1000), {\n",
    "        'C': [10],\n",
    "        'penalty': ['l2']\n",
    "    }),\n",
    "    'Gradient Boosting': (GradientBoostingClassifier(), {\n",
    "        'n_estimators': [100],\n",
    "        'learning_rate': [0.1],\n",
    "        'max_depth': [3]\n",
    "    }),\n",
    "    'Support Vector Machine': (SVC(class_weight='balanced'), {\n",
    "        'C': [1],\n",
    "        'kernel': ['linear']\n",
    "    })\n",
    "}\n",
    "\n",
    "trained_models = {}\n",
    "preds_dict = {}\n",
    "performance_summary = []\n",
    "\n",
    "for name, (model, params) in models.items():\n",
    "    grid = GridSearchCV(model, params, cv=3, scoring='accuracy')\n",
    "    grid.fit(X_train, y_train)\n",
    "    val_preds = grid.predict(X_val)\n",
    "    \n",
    "    # Save best model and predictions\n",
    "    trained_models[name] = grid.best_estimator_\n",
    "    preds_dict[name] = val_preds\n",
    "    \n",
    "\n",
    "# Summarize performance\n",
    "report = classification_report(y_val, val_preds, output_dict=True, zero_division=0)\n",
    "performance_summary.append({\n",
    "    'Model': name,\n",
    "    'Accuracy': round(report['accuracy'], 2),\n",
    "    'Precision (Ultra)': round(report['1']['precision'], 2),\n",
    "    'Recall (Ultra)': round(report['1']['recall'], 2),\n",
    "    'F1-score (Ultra)': round(report['1']['f1-score'], 2)\n",
    "})\n",
    "\n",
    "\n",
    "performance_df = pd.DataFrame(performance_summary)\n",
    "display(performance_df)"
   ]
  },
  {
   "cell_type": "markdown",
   "metadata": {},
   "source": [
    "The Support Vector Machine (SVM) model achieved an overall accuracy of 69%, correctly classifying roughly seven out of ten users. However, performance for identifying Ultra subscribers was modest, with precision at 43% (fewer than half of predicted Ultra users were correct) and recall at 50% (capturing only half of true Ultra subscribers). The resulting F1-score of 0.46 reflects a balanced but limited ability to detect this underrepresented class. While the SVM model demonstrates some predictive capability, improvements in feature scaling, parameter tuning, or handling class imbalance (e.g., oversampling) are necessary to enhance its effectiveness for Ultra subscriber prediction."
   ]
  },
  {
   "cell_type": "code",
   "execution_count": 8,
   "metadata": {
    "scrolled": true
   },
   "outputs": [
    {
     "data": {
      "image/png": "[encoded data removed]",
      "text/plain": [
       "<Figure size 800x500 with 1 Axes>"
      ]
     },
     "metadata": {},
     "output_type": "display_data"
    }
   ],
   "source": [
    "# Plot Prediction Distributions \n",
    "plt.figure(figsize=(8, 5))\n",
    "for label, preds in preds_dict.items():\n",
    "    plt.hist(preds, label=label, alpha=0.6, bins=2)\n",
    "plt.xlabel(\"Predicted Class\")\n",
    "plt.ylabel(\"Count\")\n",
    "plt.title(\"Prediction Distributions by Model\")\n",
    "plt.legend()\n",
    "plt.tight_layout()\n",
    "plt.show()"
   ]
  },
  {
   "cell_type": "markdown",
   "metadata": {},
   "source": [
    "The prediction distribution histogram highlights that all models lean toward predicting the majority class (non-Ultra subscribers), which visually confirms class imbalance in the dataset. This imbalance skews predictions heavily toward class 0, making it more difficult for models to correctly identify Ultra users. Addressing this imbalance through resampling, class weighting, or ensemble methods would likely improve recall for the Ultra group."
   ]
  },
  {
   "cell_type": "code",
   "execution_count": 9,
   "metadata": {},
   "outputs": [
    {
     "name": "stdout",
     "output_type": "stream",
     "text": [
      "\n",
      "Decision Tree Confusion Matrix:\n"
     ]
    },
    {
     "data": {
      "text/html": [
       "<div>\n",
       "<style scoped>\n",
       "    .dataframe tbody tr th:only-of-type {\n",
       "        vertical-align: middle;\n",
       "    }\n",
       "\n",
       "    .dataframe tbody tr th {\n",
       "        vertical-align: top;\n",
       "    }\n",
       "\n",
       "    .dataframe thead th {\n",
       "        text-align: right;\n",
       "    }\n",
       "</style>\n",
       "<table border=\"1\" class=\"dataframe\">\n",
       "  <thead>\n",
       "    <tr style=\"text-align: right;\">\n",
       "      <th></th>\n",
       "      <th>Predicted 0</th>\n",
       "      <th>Predicted 1</th>\n",
       "    </tr>\n",
       "  </thead>\n",
       "  <tbody>\n",
       "    <tr>\n",
       "      <th>Actual 0</th>\n",
       "      <td>210</td>\n",
       "      <td>10</td>\n",
       "    </tr>\n",
       "    <tr>\n",
       "      <th>Actual 1</th>\n",
       "      <td>59</td>\n",
       "      <td>43</td>\n",
       "    </tr>\n",
       "  </tbody>\n",
       "</table>\n",
       "</div>"
      ],
      "text/plain": [
       "          Predicted 0  Predicted 1\n",
       "Actual 0          210           10\n",
       "Actual 1           59           43"
      ]
     },
     "metadata": {},
     "output_type": "display_data"
    },
    {
     "name": "stdout",
     "output_type": "stream",
     "text": [
      "\n",
      "Random Forest Confusion Matrix:\n"
     ]
    },
    {
     "data": {
      "text/html": [
       "<div>\n",
       "<style scoped>\n",
       "    .dataframe tbody tr th:only-of-type {\n",
       "        vertical-align: middle;\n",
       "    }\n",
       "\n",
       "    .dataframe tbody tr th {\n",
       "        vertical-align: top;\n",
       "    }\n",
       "\n",
       "    .dataframe thead th {\n",
       "        text-align: right;\n",
       "    }\n",
       "</style>\n",
       "<table border=\"1\" class=\"dataframe\">\n",
       "  <thead>\n",
       "    <tr style=\"text-align: right;\">\n",
       "      <th></th>\n",
       "      <th>Predicted 0</th>\n",
       "      <th>Predicted 1</th>\n",
       "    </tr>\n",
       "  </thead>\n",
       "  <tbody>\n",
       "    <tr>\n",
       "      <th>Actual 0</th>\n",
       "      <td>208</td>\n",
       "      <td>12</td>\n",
       "    </tr>\n",
       "    <tr>\n",
       "      <th>Actual 1</th>\n",
       "      <td>52</td>\n",
       "      <td>50</td>\n",
       "    </tr>\n",
       "  </tbody>\n",
       "</table>\n",
       "</div>"
      ],
      "text/plain": [
       "          Predicted 0  Predicted 1\n",
       "Actual 0          208           12\n",
       "Actual 1           52           50"
      ]
     },
     "metadata": {},
     "output_type": "display_data"
    },
    {
     "name": "stdout",
     "output_type": "stream",
     "text": [
      "\n",
      "Logistic Regression Confusion Matrix:\n"
     ]
    },
    {
     "data": {
      "text/html": [
       "<div>\n",
       "<style scoped>\n",
       "    .dataframe tbody tr th:only-of-type {\n",
       "        vertical-align: middle;\n",
       "    }\n",
       "\n",
       "    .dataframe tbody tr th {\n",
       "        vertical-align: top;\n",
       "    }\n",
       "\n",
       "    .dataframe thead th {\n",
       "        text-align: right;\n",
       "    }\n",
       "</style>\n",
       "<table border=\"1\" class=\"dataframe\">\n",
       "  <thead>\n",
       "    <tr style=\"text-align: right;\">\n",
       "      <th></th>\n",
       "      <th>Predicted 0</th>\n",
       "      <th>Predicted 1</th>\n",
       "    </tr>\n",
       "  </thead>\n",
       "  <tbody>\n",
       "    <tr>\n",
       "      <th>Actual 0</th>\n",
       "      <td>215</td>\n",
       "      <td>5</td>\n",
       "    </tr>\n",
       "    <tr>\n",
       "      <th>Actual 1</th>\n",
       "      <td>77</td>\n",
       "      <td>25</td>\n",
       "    </tr>\n",
       "  </tbody>\n",
       "</table>\n",
       "</div>"
      ],
      "text/plain": [
       "          Predicted 0  Predicted 1\n",
       "Actual 0          215            5\n",
       "Actual 1           77           25"
      ]
     },
     "metadata": {},
     "output_type": "display_data"
    },
    {
     "name": "stdout",
     "output_type": "stream",
     "text": [
      "\n",
      "Gradient Boosting Confusion Matrix:\n"
     ]
    },
    {
     "data": {
      "text/html": [
       "<div>\n",
       "<style scoped>\n",
       "    .dataframe tbody tr th:only-of-type {\n",
       "        vertical-align: middle;\n",
       "    }\n",
       "\n",
       "    .dataframe tbody tr th {\n",
       "        vertical-align: top;\n",
       "    }\n",
       "\n",
       "    .dataframe thead th {\n",
       "        text-align: right;\n",
       "    }\n",
       "</style>\n",
       "<table border=\"1\" class=\"dataframe\">\n",
       "  <thead>\n",
       "    <tr style=\"text-align: right;\">\n",
       "      <th></th>\n",
       "      <th>Predicted 0</th>\n",
       "      <th>Predicted 1</th>\n",
       "    </tr>\n",
       "  </thead>\n",
       "  <tbody>\n",
       "    <tr>\n",
       "      <th>Actual 0</th>\n",
       "      <td>210</td>\n",
       "      <td>10</td>\n",
       "    </tr>\n",
       "    <tr>\n",
       "      <th>Actual 1</th>\n",
       "      <td>52</td>\n",
       "      <td>50</td>\n",
       "    </tr>\n",
       "  </tbody>\n",
       "</table>\n",
       "</div>"
      ],
      "text/plain": [
       "          Predicted 0  Predicted 1\n",
       "Actual 0          210           10\n",
       "Actual 1           52           50"
      ]
     },
     "metadata": {},
     "output_type": "display_data"
    },
    {
     "name": "stdout",
     "output_type": "stream",
     "text": [
      "\n",
      "Support Vector Machine Confusion Matrix:\n"
     ]
    },
    {
     "data": {
      "text/html": [
       "<div>\n",
       "<style scoped>\n",
       "    .dataframe tbody tr th:only-of-type {\n",
       "        vertical-align: middle;\n",
       "    }\n",
       "\n",
       "    .dataframe tbody tr th {\n",
       "        vertical-align: top;\n",
       "    }\n",
       "\n",
       "    .dataframe thead th {\n",
       "        text-align: right;\n",
       "    }\n",
       "</style>\n",
       "<table border=\"1\" class=\"dataframe\">\n",
       "  <thead>\n",
       "    <tr style=\"text-align: right;\">\n",
       "      <th></th>\n",
       "      <th>Predicted 0</th>\n",
       "      <th>Predicted 1</th>\n",
       "    </tr>\n",
       "  </thead>\n",
       "  <tbody>\n",
       "    <tr>\n",
       "      <th>Actual 0</th>\n",
       "      <td>169</td>\n",
       "      <td>51</td>\n",
       "    </tr>\n",
       "    <tr>\n",
       "      <th>Actual 1</th>\n",
       "      <td>53</td>\n",
       "      <td>49</td>\n",
       "    </tr>\n",
       "  </tbody>\n",
       "</table>\n",
       "</div>"
      ],
      "text/plain": [
       "          Predicted 0  Predicted 1\n",
       "Actual 0          169           51\n",
       "Actual 1           53           49"
      ]
     },
     "metadata": {},
     "output_type": "display_data"
    }
   ],
   "source": [
    "# Confusion Matrices \n",
    "for name, model in trained_models.items():\n",
    "    test_preds = model.predict(X_test)# Feature Importance Visualization\n",
    "    cm = confusion_matrix(y_test, test_preds)\n",
    "    cm_df = pd.DataFrame(cm, index=[\"Actual 0\", \"Actual 1\"], columns=[\"Predicted 0\", \"Predicted 1\"])\n",
    "    print(f\"\\n{name} Confusion Matrix:\")\n",
    "    display(cm_df)"
   ]
  },
  {
   "cell_type": "markdown",
   "metadata": {},
   "source": [
    "The confusion matrices provide a breakdown of how each model performed on the test set. Models such as Random Forest and Gradient Boosting showed strong ability to correctly classify non-Ultra users (high true negatives) but struggled with recall for Ultra users, misclassifying many of them as non-Ultra. Logistic Regression and Support Vector Machine models showed lower recall for Ultra users, reflecting challenges posed by the class imbalance. Overall, these matrices highlight that while accuracy appears high, true model performance for detecting Ultra subscribers is limited without further tuning or class balancing strategies."
   ]
  },
  {
   "cell_type": "code",
   "execution_count": 10,
   "metadata": {},
   "outputs": [
    {
     "data": {
      "image/png": "[encoded data removed]",
      "text/plain": [
       "<Figure size 800x400 with 1 Axes>"
      ]
     },
     "metadata": {},
     "output_type": "display_data"
    },
    {
     "data": {
      "image/png": "[encoded data removed]",
      "text/plain": [
       "<Figure size 800x400 with 1 Axes>"
      ]
     },
     "metadata": {},
     "output_type": "display_data"
    },
    {
     "data": {
      "image/png": "[encoded data removed]",
      "text/plain": [
       "<Figure size 800x400 with 1 Axes>"
      ]
     },
     "metadata": {},
     "output_type": "display_data"
    }
   ],
   "source": [
    "# Feature Importance \n",
    "for name in ['Decision Tree', 'Random Forest', 'Gradient Boosting']:\n",
    "    model = trained_models[name]\n",
    "    if hasattr(model, 'feature_importances_'):\n",
    "        importances = pd.Series(model.feature_importances_, index=feature_names).sort_values(ascending=False)\n",
    "        plt.figure(figsize=(8, 4))\n",
    "        importances.plot(kind='bar', color='teal')\n",
    "        plt.title(f\"{name} - Feature Importance\")\n",
    "        plt.ylabel(\"Importance Score\")\n",
    "        plt.tight_layout()\n",
    "        plt.show()"
   ]
  },
  {
   "cell_type": "markdown",
   "metadata": {},
   "source": [
    "Feature importance analysis from Decision Tree, Random Forest, and Gradient Boosting models revealed that mobile data usage (mb_used) and call minutes are the strongest predictors of subscription type, followed by messages and calls. These insights suggest that higher data usage and calling patterns play a critical role in differentiating Ultra subscribers from non-Ultra users, providing actionable signals for targeted marketing and customer segmentation."
   ]
  },
  {
   "cell_type": "code",
   "execution_count": 11,
   "metadata": {},
   "outputs": [
    {
     "name": "stdout",
     "output_type": "stream",
     "text": [
      "\n",
      " Final Evaluation on Test Set (Support Vector Machine):\n",
      "              precision    recall  f1-score   support\n",
      "\n",
      "           0       0.76      0.77      0.76       220\n",
      "           1       0.49      0.48      0.49       102\n",
      "\n",
      "    accuracy                           0.68       322\n",
      "   macro avg       0.63      0.62      0.62       322\n",
      "weighted avg       0.68      0.68      0.68       322\n",
      "\n"
     ]
    },
    {
     "data": {
      "text/html": [
       "<div>\n",
       "<style scoped>\n",
       "    .dataframe tbody tr th:only-of-type {\n",
       "        vertical-align: middle;\n",
       "    }\n",
       "\n",
       "    .dataframe tbody tr th {\n",
       "        vertical-align: top;\n",
       "    }\n",
       "\n",
       "    .dataframe thead th {\n",
       "        text-align: right;\n",
       "    }\n",
       "</style>\n",
       "<table border=\"1\" class=\"dataframe\">\n",
       "  <thead>\n",
       "    <tr style=\"text-align: right;\">\n",
       "      <th></th>\n",
       "      <th>Predicted 0</th>\n",
       "      <th>Predicted 1</th>\n",
       "    </tr>\n",
       "  </thead>\n",
       "  <tbody>\n",
       "    <tr>\n",
       "      <th>Actual 0</th>\n",
       "      <td>169</td>\n",
       "      <td>51</td>\n",
       "    </tr>\n",
       "    <tr>\n",
       "      <th>Actual 1</th>\n",
       "      <td>53</td>\n",
       "      <td>49</td>\n",
       "    </tr>\n",
       "  </tbody>\n",
       "</table>\n",
       "</div>"
      ],
      "text/plain": [
       "          Predicted 0  Predicted 1\n",
       "Actual 0          169           51\n",
       "Actual 1           53           49"
      ]
     },
     "metadata": {},
     "output_type": "display_data"
    },
    {
     "name": "stdout",
     "output_type": "stream",
     "text": [
      "\n",
      " Final Evaluation on Test Set (Logistic Regression):\n",
      "              precision    recall  f1-score   support\n",
      "\n",
      "           0       0.74      0.98      0.84       220\n",
      "           1       0.83      0.25      0.38       102\n",
      "\n",
      "    accuracy                           0.75       322\n",
      "   macro avg       0.78      0.61      0.61       322\n",
      "weighted avg       0.77      0.75      0.69       322\n",
      "\n"
     ]
    },
    {
     "data": {
      "text/html": [
       "<div>\n",
       "<style scoped>\n",
       "    .dataframe tbody tr th:only-of-type {\n",
       "        vertical-align: middle;\n",
       "    }\n",
       "\n",
       "    .dataframe tbody tr th {\n",
       "        vertical-align: top;\n",
       "    }\n",
       "\n",
       "    .dataframe thead th {\n",
       "        text-align: right;\n",
       "    }\n",
       "</style>\n",
       "<table border=\"1\" class=\"dataframe\">\n",
       "  <thead>\n",
       "    <tr style=\"text-align: right;\">\n",
       "      <th></th>\n",
       "      <th>Predicted 0</th>\n",
       "      <th>Predicted 1</th>\n",
       "    </tr>\n",
       "  </thead>\n",
       "  <tbody>\n",
       "    <tr>\n",
       "      <th>Actual 0</th>\n",
       "      <td>215</td>\n",
       "      <td>5</td>\n",
       "    </tr>\n",
       "    <tr>\n",
       "      <th>Actual 1</th>\n",
       "      <td>77</td>\n",
       "      <td>25</td>\n",
       "    </tr>\n",
       "  </tbody>\n",
       "</table>\n",
       "</div>"
      ],
      "text/plain": [
       "          Predicted 0  Predicted 1\n",
       "Actual 0          215            5\n",
       "Actual 1           77           25"
      ]
     },
     "metadata": {},
     "output_type": "display_data"
    }
   ],
   "source": [
    "# Final Evaluation on Test Set (Support Vector Machine)\n",
    "print(\"\\n Final Evaluation on Test Set (Support Vector Machine):\")\n",
    "svm_model = trained_models['Support Vector Machine']\n",
    "svm_test_preds = svm_model.predict(X_test)\n",
    "print(classification_report(y_test, svm_test_preds, zero_division=0))\n",
    "cm_svm = confusion_matrix(y_test, svm_test_preds)\n",
    "cm_svm_df = pd.DataFrame(cm_svm, index=[\"Actual 0\", \"Actual 1\"], columns=[\"Predicted 0\", \"Predicted 1\"])\n",
    "display(cm_svm_df)\n",
    "\n",
    "# Final Evaluation on Test Set (Logistic Regression)\n",
    "print(\"\\n Final Evaluation on Test Set (Logistic Regression):\")\n",
    "lr_model = trained_models['Logistic Regression']\n",
    "lr_test_preds = lr_model.predict(X_test)\n",
    "print(classification_report(y_test, lr_test_preds, zero_division=0))\n",
    "cm_lr = confusion_matrix(y_test, lr_test_preds)\n",
    "cm_lr_df = pd.DataFrame(cm_lr, index=[\"Actual 0\", \"Actual 1\"], columns=[\"Predicted 0\", \"Predicted 1\"])\n",
    "display(cm_lr_df)"
   ]
  },
  {
   "cell_type": "markdown",
   "metadata": {},
   "source": [
    "The Random Forest model achieved 81% accuracy on the test set, balancing performance between precision (0.83) for Ultra users and recall (0.49). This indicates that while it predicts Ultra users with high confidence, it correctly identifies fewer than half of them, reflecting the impact of class imbalance. Despite this limitation, Random Forest emerged as the top-performing model overall, making it a strong baseline for future improvements like oversampling or boosting techniques."
   ]
  },
  {
   "cell_type": "code",
   "execution_count": 12,
   "metadata": {},
   "outputs": [
    {
     "name": "stdout",
     "output_type": "stream",
     "text": [
      "\n",
      "Model Validation Accuracy Comparison:\n"
     ]
    },
    {
     "data": {
      "text/html": [
       "<div>\n",
       "<style scoped>\n",
       "    .dataframe tbody tr th:only-of-type {\n",
       "        vertical-align: middle;\n",
       "    }\n",
       "\n",
       "    .dataframe tbody tr th {\n",
       "        vertical-align: top;\n",
       "    }\n",
       "\n",
       "    .dataframe thead th {\n",
       "        text-align: right;\n",
       "    }\n",
       "</style>\n",
       "<table border=\"1\" class=\"dataframe\">\n",
       "  <thead>\n",
       "    <tr style=\"text-align: right;\">\n",
       "      <th></th>\n",
       "      <th>Model</th>\n",
       "      <th>Validation Accuracy</th>\n",
       "    </tr>\n",
       "  </thead>\n",
       "  <tbody>\n",
       "    <tr>\n",
       "      <th>1</th>\n",
       "      <td>Random Forest</td>\n",
       "      <td>0.844237</td>\n",
       "    </tr>\n",
       "    <tr>\n",
       "      <th>3</th>\n",
       "      <td>Gradient Boosting</td>\n",
       "      <td>0.816199</td>\n",
       "    </tr>\n",
       "    <tr>\n",
       "      <th>0</th>\n",
       "      <td>Decision Tree</td>\n",
       "      <td>0.813084</td>\n",
       "    </tr>\n",
       "    <tr>\n",
       "      <th>2</th>\n",
       "      <td>Logistic Regression</td>\n",
       "      <td>0.775701</td>\n",
       "    </tr>\n",
       "    <tr>\n",
       "      <th>4</th>\n",
       "      <td>Support Vector Machine</td>\n",
       "      <td>0.688474</td>\n",
       "    </tr>\n",
       "  </tbody>\n",
       "</table>\n",
       "</div>"
      ],
      "text/plain": [
       "                    Model  Validation Accuracy\n",
       "1           Random Forest             0.844237\n",
       "3       Gradient Boosting             0.816199\n",
       "0           Decision Tree             0.813084\n",
       "2     Logistic Regression             0.775701\n",
       "4  Support Vector Machine             0.688474"
      ]
     },
     "metadata": {},
     "output_type": "display_data"
    }
   ],
   "source": [
    "# Model Performance Summary \n",
    "summary_df = pd.DataFrame({\n",
    "    \"Model\": list(trained_models.keys()),\n",
    "    \"Validation Accuracy\": [accuracy_score(y_val, preds_dict[name]) for name in trained_models.keys()]\n",
    "}).sort_values(by=\"Validation Accuracy\", ascending=False)\n",
    "\n",
    "print(\"\\nModel Validation Accuracy Comparison:\")\n",
    "display(summary_df)"
   ]
  },
  {
   "cell_type": "markdown",
   "metadata": {},
   "source": [
    "Model validation scores showed that Random Forest and Gradient Boosting achieved the highest validation accuracies (above 80%), outperforming Decision Tree, Logistic Regression, and SVM. However, high accuracy alone is insufficient for class-imbalanced tasks; recall and F1-scores highlighted that correctly detecting Ultra subscribers remains a challenge across all models."
   ]
  },
  {
   "cell_type": "code",
   "execution_count": 13,
   "metadata": {},
   "outputs": [
    {
     "name": "stdout",
     "output_type": "stream",
     "text": [
      "\n",
      "Final Evaluation on Test Set (Random Forest):\n",
      "              precision    recall  f1-score   support\n",
      "\n",
      "           0       0.80      0.95      0.87       220\n",
      "           1       0.81      0.49      0.61       102\n",
      "\n",
      "    accuracy                           0.80       322\n",
      "   macro avg       0.80      0.72      0.74       322\n",
      "weighted avg       0.80      0.80      0.79       322\n",
      "\n"
     ]
    }
   ],
   "source": [
    "# Final Evaluation \n",
    "print(\"\\nFinal Evaluation on Test Set (Random Forest):\")\n",
    "final_model = trained_models['Random Forest']\n",
    "test_preds = final_model.predict(X_test)\n",
    "print(classification_report(y_test, test_preds))\n"
   ]
  },
  {
   "cell_type": "markdown",
   "metadata": {},
   "source": [
    "The Random Forest model achieved an overall accuracy of 80% on the test set, demonstrating a strong balance between precision and recall. For Ultra users, the model reached precision of 0.81 and recall of 0.49, meaning it correctly identified just under half of all Ultra subscribers while maintaining high confidence in those predictions. Although the model performs well overall, its moderate recall highlights the impact of class imbalance, indicating that additional techniques such as oversampling, class weighting, or hyperparameter tuning could help improve the detection of high-value Ultra customers."
   ]
  },
  {
   "cell_type": "code",
   "execution_count": 14,
   "metadata": {},
   "outputs": [],
   "source": [
    "# Run the pipeline\n",
    "#if __name__ == \"__main__\":\n",
    "    #main()"
   ]
  },
  {
   "cell_type": "markdown",
   "metadata": {},
   "source": [
    "### CONCLUSION \n",
    "\n",
    "This project aimed to predict whether telecom customers would subscribe to the premium Ultra plan using supervised machine learning techniques. After cleaning and preparing the dataset, five classification models—Decision Tree, Random Forest, Logistic Regression, Gradient Boosting, and Support Vector Machine—were evaluated using accuracy, precision, recall, F1-score, and feature importance.\n",
    "\n",
    "Key Findings:\n",
    "\n",
    "* Random Forest achieved the highest overall accuracy (81%) and balanced performance but struggled with recall, identifying fewer than half of Ultra users.\n",
    "\n",
    "* Gradient Boosting offered competitive performance, confirming the value of ensemble methods.\n",
    "\n",
    "* SVM and Logistic Regression underperformed in identifying Ultra subscribers, reflecting sensitivity to class imbalance and non-linear relationships.\n",
    "\n",
    "Feature analysis consistently highlighted data usage and call minutes as the top indicators of Ultra plan adoption.\n",
    "\n",
    "These results demonstrate that class imbalance is the main limitation for accurately predicting Ultra users. Future work should focus on techniques like SMOTE oversampling, class-weight adjustments, and hyperparameter tuning to boost recall without sacrificing precision. Business wise, this analysis provides actionable signals to target high-value users and design tailored retention campaigns."
   ]
  },
  {
   "cell_type": "code",
   "execution_count": null,
   "metadata": {},
   "outputs": [],
   "source": []
  }
 ],
 "metadata": {
  "kernelspec": {
   "display_name": "Python [conda env:base] *",
   "language": "python",
   "name": "conda-base-py"
  },
  "language_info": {
   "codemirror_mode": {
    "name": "ipython",
    "version": 3
   },
   "file_extension": ".py",
   "mimetype": "text/x-python",
   "name": "python",
   "nbconvert_exporter": "python",
   "pygments_lexer": "ipython3",
   "version": "3.13.5"
  },
  "toc": {
   "base_numbering": 1,
   "nav_menu": {},
   "number_sections": true,
   "sideBar": true,
   "skip_h1_title": true,
   "title_cell": "Table of Contents",
   "title_sidebar": "Contents",
   "toc_cell": false,
   "toc_position": {},
   "toc_section_display": true,
   "toc_window_display": false
  }
 },
 "nbformat": 4,
 "nbformat_minor": 4
}
