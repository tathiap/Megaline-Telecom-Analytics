{
 "cells": [
  {
   "cell_type": "markdown",
   "id": "5c5adb79-1a5d-423e-8c78-39a29b66be6d",
   "metadata": {},
   "source": [
    "# Megaline SQL Analysis"
   ]
  },
  {
   "cell_type": "markdown",
   "id": "e01dc365-5403-4264-beca-d39edfb59317",
   "metadata": {},
   "source": [
    "### PROJECT OVERVIEW\n",
    "\n",
    "**Objective:**  \n",
    "Megaline, a telecom operator, offers two prepaid plans: **Surf** and **Ultimate**.  \n",
    "The commercial department wants to determine which plan generates more revenue to optimize marketing budgets.\n",
    "\n",
    "**Approach:**  \n",
    "- Load raw usage data (calls, messages, internet) and customer data into an SQLite database.\n",
    "- Use SQL to aggregate data and calculate revenue per user and per plan.\n",
    "- Visualize revenue and usage trends with Pandas (matplotlib & seaborn).\n",
    "- Perform a statistical comparison (Surf vs. Ultimate) to confirm findings.\n",
    "\n",
    "**Datasets:**  \n",
    "- calls, messages, internet, users, plans (2018 data for 500 clients)."
   ]
  },
  {
   "cell_type": "code",
   "execution_count": 15,
   "id": "fe5d1be6-a371-4e91-bc4d-3f7875f1393f",
   "metadata": {},
   "outputs": [],
   "source": [
    "import pandas as pd\n",
    "import numpy as np\n",
    "import sqlite3\n",
    "from pathlib import Path\n",
    "\n",
    "import matplotlib.pyplot as plt\n",
    "import seaborn as sns\n",
    "from scipy.stats import ttest_ind"
   ]
  },
  {
   "cell_type": "code",
   "execution_count": 18,
   "id": "0a6d3f7a-a1c0-4f42-91d7-08701e6dbf8a",
   "metadata": {},
   "outputs": [
    {
     "name": "stdout",
     "output_type": "stream",
     "text": [
      "DB: /Users/tathianicol/Desktop/Analyst/Megaline Telecom/megaline2.db\n",
      "CSV folder exists: True\n"
     ]
    }
   ],
   "source": [
    "# Paths & DB Connection \n",
    "\n",
    "# Project directories (this assumes notebook lives in /notebooks/)\n",
    "PROJECT_ROOT = Path.cwd().parents[0]            # repo root\n",
    "DATA_DIR     = PROJECT_ROOT / \"dataset\"        \n",
    "SQL_DIR      = PROJECT_ROOT / \"sql\"\n",
    "DB_PATH      = PROJECT_ROOT / \"megaline2.db\"\n",
    "\n",
    "# Create / open SQLite DB at repo root\n",
    "conn = sqlite3.connect(DB_PATH)\n",
    "print(\"DB:\", DB_PATH)\n",
    "print(\"CSV folder exists:\", DATA_DIR.exists())"
   ]
  },
  {
   "cell_type": "code",
   "execution_count": 19,
   "id": "a3c6429b-252c-4c96-a11d-83a25ba53985",
   "metadata": {},
   "outputs": [
    {
     "name": "stdout",
     "output_type": "stream",
     "text": [
      "calls (137735, 4)\n",
      "internet (104825, 4)\n",
      "messages (76051, 3)\n",
      "users (500, 8)\n",
      "plans (2, 8)\n"
     ]
    }
   ],
   "source": [
    "# Load CSVs \n",
    "# Load CSV files from DATA_DIR\n",
    "calls    = pd.read_csv(DATA_DIR / \"megaline_calls.csv\")\n",
    "internet = pd.read_csv(DATA_DIR / \"megaline_internet.csv\")\n",
    "messages = pd.read_csv(DATA_DIR / \"megaline_messages.csv\")\n",
    "users    = pd.read_csv(DATA_DIR / \"megaline_users.csv\")\n",
    "plans    = pd.read_csv(DATA_DIR / \"megaline_plans.csv\")\n",
    "\n",
    "for name, df in {\"calls\":calls, \"internet\":internet, \"messages\":messages, \"users\":users, \"plans\":plans}.items():\n",
    "    print(name, df.shape)"
   ]
  },
  {
   "cell_type": "code",
   "execution_count": 20,
   "id": "e6055380-ce72-49ee-b798-b65a33e844e9",
   "metadata": {},
   "outputs": [
    {
     "name": "stdout",
     "output_type": "stream",
     "text": [
      "Data loaded into megaline2.db\n"
     ]
    }
   ],
   "source": [
    "# Raw tables to SQLite \n",
    "# Persist raw dataframes into SQLite (handy for SQL exploration)\n",
    "calls.to_sql('calls', conn, index=False, if_exists='replace')\n",
    "internet.to_sql('internet', conn, index=False, if_exists='replace')\n",
    "messages.to_sql('messages', conn, index=False, if_exists='replace')\n",
    "users.to_sql('users', conn, index=False, if_exists='replace')\n",
    "plans.to_sql('plans', conn, index=False, if_exists='replace')\n",
    "\n",
    "print(\"Data loaded into megaline2.db\")"
   ]
  },
  {
   "cell_type": "code",
   "execution_count": 21,
   "id": "2f71b76c-ce8b-493b-afb6-bf8c128ae419",
   "metadata": {},
   "outputs": [
    {
     "data": {
      "text/html": [
       "<div>\n",
       "<style scoped>\n",
       "    .dataframe tbody tr th:only-of-type {\n",
       "        vertical-align: middle;\n",
       "    }\n",
       "\n",
       "    .dataframe tbody tr th {\n",
       "        vertical-align: top;\n",
       "    }\n",
       "\n",
       "    .dataframe thead th {\n",
       "        text-align: right;\n",
       "    }\n",
       "</style>\n",
       "<table border=\"1\" class=\"dataframe\">\n",
       "  <thead>\n",
       "    <tr style=\"text-align: right;\">\n",
       "      <th></th>\n",
       "      <th>name</th>\n",
       "    </tr>\n",
       "  </thead>\n",
       "  <tbody>\n",
       "    <tr>\n",
       "      <th>0</th>\n",
       "      <td>calls</td>\n",
       "    </tr>\n",
       "    <tr>\n",
       "      <th>1</th>\n",
       "      <td>internet</td>\n",
       "    </tr>\n",
       "    <tr>\n",
       "      <th>2</th>\n",
       "      <td>messages</td>\n",
       "    </tr>\n",
       "    <tr>\n",
       "      <th>3</th>\n",
       "      <td>users</td>\n",
       "    </tr>\n",
       "    <tr>\n",
       "      <th>4</th>\n",
       "      <td>plans</td>\n",
       "    </tr>\n",
       "  </tbody>\n",
       "</table>\n",
       "</div>"
      ],
      "text/plain": [
       "       name\n",
       "0     calls\n",
       "1  internet\n",
       "2  messages\n",
       "3     users\n",
       "4     plans"
      ]
     },
     "execution_count": 21,
     "metadata": {},
     "output_type": "execute_result"
    }
   ],
   "source": [
    "# QUICK DB Sanity Checks \n",
    "pd.read_sql_query(\"SELECT name FROM sqlite_master WHERE type='table';\", conn)"
   ]
  },
  {
   "cell_type": "code",
   "execution_count": 22,
   "id": "b52c21ec-7e4d-4fc2-ae94-c76bc7507f53",
   "metadata": {},
   "outputs": [
    {
     "data": {
      "text/plain": [
       "(   user_id    month  total_minutes\n",
       " 0     1000  2018-12         116.83\n",
       " 1     1001  2018-08         171.14\n",
       " 2     1001  2018-09         297.69\n",
       " 3     1001  2018-10         374.11\n",
       " 4     1001  2018-11         404.59,\n",
       "    user_id    month  messages_sent\n",
       " 0     1000  2018-12             11\n",
       " 1     1001  2018-08             30\n",
       " 2     1001  2018-09             44\n",
       " 3     1001  2018-10             53\n",
       " 4     1001  2018-11             36,\n",
       "    user_id    month  data_volume_mb\n",
       " 0     1000  2018-12         1901.47\n",
       " 1     1001  2018-08         6919.15\n",
       " 2     1001  2018-09        13314.82\n",
       " 3     1001  2018-10        22330.49\n",
       " 4     1001  2018-11        18504.30)"
      ]
     },
     "execution_count": 22,
     "metadata": {},
     "output_type": "execute_result"
    }
   ],
   "source": [
    "# Monthly Aggregation (SQL)\n",
    "\n",
    "# Calls: total minutes per user-month\n",
    "calls_agg = pd.read_sql_query(\"\"\"\n",
    "SELECT user_id,\n",
    "       strftime('%Y-%m', call_date) AS month,\n",
    "       SUM(duration) AS total_minutes\n",
    "FROM calls\n",
    "GROUP BY user_id, month;\n",
    "\"\"\", conn)\n",
    "\n",
    "# Messages: count per user-month (use COUNT(*))\n",
    "messages_agg = pd.read_sql_query(\"\"\"\n",
    "SELECT user_id,\n",
    "       strftime('%Y-%m', message_date) AS month,\n",
    "       COUNT(*) AS messages_sent\n",
    "FROM messages\n",
    "GROUP BY user_id, month;\n",
    "\"\"\", conn)\n",
    "\n",
    "# Internet: total MB per user-month\n",
    "internet_agg = pd.read_sql_query(\"\"\"\n",
    "SELECT user_id,\n",
    "       strftime('%Y-%m', session_date) AS month,\n",
    "       SUM(mb_used) AS data_volume_mb\n",
    "FROM internet\n",
    "GROUP BY user_id, month;\n",
    "\"\"\", conn)\n",
    "\n",
    "calls_agg.head(), messages_agg.head(), internet_agg.head()"
   ]
  },
  {
   "cell_type": "code",
   "execution_count": 23,
   "id": "a820753c-2a17-4d32-b29d-693c0a0d60f1",
   "metadata": {},
   "outputs": [
    {
     "data": {
      "text/html": [
       "<div>\n",
       "<style scoped>\n",
       "    .dataframe tbody tr th:only-of-type {\n",
       "        vertical-align: middle;\n",
       "    }\n",
       "\n",
       "    .dataframe tbody tr th {\n",
       "        vertical-align: top;\n",
       "    }\n",
       "\n",
       "    .dataframe thead th {\n",
       "        text-align: right;\n",
       "    }\n",
       "</style>\n",
       "<table border=\"1\" class=\"dataframe\">\n",
       "  <thead>\n",
       "    <tr style=\"text-align: right;\">\n",
       "      <th></th>\n",
       "      <th>user_id</th>\n",
       "      <th>month</th>\n",
       "      <th>total_minutes</th>\n",
       "      <th>data_volume_mb</th>\n",
       "      <th>messages_sent</th>\n",
       "      <th>plan</th>\n",
       "      <th>city</th>\n",
       "      <th>messages_included</th>\n",
       "      <th>mb_per_month_included</th>\n",
       "      <th>minutes_included</th>\n",
       "      <th>usd_monthly_pay</th>\n",
       "      <th>usd_per_gb</th>\n",
       "      <th>usd_per_message</th>\n",
       "      <th>usd_per_minute</th>\n",
       "    </tr>\n",
       "  </thead>\n",
       "  <tbody>\n",
       "    <tr>\n",
       "      <th>0</th>\n",
       "      <td>1000</td>\n",
       "      <td>2018-12</td>\n",
       "      <td>116.83</td>\n",
       "      <td>1901.47</td>\n",
       "      <td>11.0</td>\n",
       "      <td>ultimate</td>\n",
       "      <td>Atlanta-Sandy Springs-Roswell, GA MSA</td>\n",
       "      <td>1000</td>\n",
       "      <td>30720</td>\n",
       "      <td>3000</td>\n",
       "      <td>70</td>\n",
       "      <td>7</td>\n",
       "      <td>0.01</td>\n",
       "      <td>0.01</td>\n",
       "    </tr>\n",
       "    <tr>\n",
       "      <th>1</th>\n",
       "      <td>1001</td>\n",
       "      <td>2018-08</td>\n",
       "      <td>171.14</td>\n",
       "      <td>6919.15</td>\n",
       "      <td>30.0</td>\n",
       "      <td>surf</td>\n",
       "      <td>Seattle-Tacoma-Bellevue, WA MSA</td>\n",
       "      <td>50</td>\n",
       "      <td>15360</td>\n",
       "      <td>500</td>\n",
       "      <td>20</td>\n",
       "      <td>10</td>\n",
       "      <td>0.03</td>\n",
       "      <td>0.03</td>\n",
       "    </tr>\n",
       "    <tr>\n",
       "      <th>2</th>\n",
       "      <td>1001</td>\n",
       "      <td>2018-09</td>\n",
       "      <td>297.69</td>\n",
       "      <td>13314.82</td>\n",
       "      <td>44.0</td>\n",
       "      <td>surf</td>\n",
       "      <td>Seattle-Tacoma-Bellevue, WA MSA</td>\n",
       "      <td>50</td>\n",
       "      <td>15360</td>\n",
       "      <td>500</td>\n",
       "      <td>20</td>\n",
       "      <td>10</td>\n",
       "      <td>0.03</td>\n",
       "      <td>0.03</td>\n",
       "    </tr>\n",
       "    <tr>\n",
       "      <th>3</th>\n",
       "      <td>1001</td>\n",
       "      <td>2018-10</td>\n",
       "      <td>374.11</td>\n",
       "      <td>22330.49</td>\n",
       "      <td>53.0</td>\n",
       "      <td>surf</td>\n",
       "      <td>Seattle-Tacoma-Bellevue, WA MSA</td>\n",
       "      <td>50</td>\n",
       "      <td>15360</td>\n",
       "      <td>500</td>\n",
       "      <td>20</td>\n",
       "      <td>10</td>\n",
       "      <td>0.03</td>\n",
       "      <td>0.03</td>\n",
       "    </tr>\n",
       "    <tr>\n",
       "      <th>4</th>\n",
       "      <td>1001</td>\n",
       "      <td>2018-11</td>\n",
       "      <td>404.59</td>\n",
       "      <td>18504.30</td>\n",
       "      <td>36.0</td>\n",
       "      <td>surf</td>\n",
       "      <td>Seattle-Tacoma-Bellevue, WA MSA</td>\n",
       "      <td>50</td>\n",
       "      <td>15360</td>\n",
       "      <td>500</td>\n",
       "      <td>20</td>\n",
       "      <td>10</td>\n",
       "      <td>0.03</td>\n",
       "      <td>0.03</td>\n",
       "    </tr>\n",
       "  </tbody>\n",
       "</table>\n",
       "</div>"
      ],
      "text/plain": [
       "   user_id    month  total_minutes  data_volume_mb  messages_sent      plan  \\\n",
       "0     1000  2018-12         116.83         1901.47           11.0  ultimate   \n",
       "1     1001  2018-08         171.14         6919.15           30.0      surf   \n",
       "2     1001  2018-09         297.69        13314.82           44.0      surf   \n",
       "3     1001  2018-10         374.11        22330.49           53.0      surf   \n",
       "4     1001  2018-11         404.59        18504.30           36.0      surf   \n",
       "\n",
       "                                    city  messages_included  \\\n",
       "0  Atlanta-Sandy Springs-Roswell, GA MSA               1000   \n",
       "1        Seattle-Tacoma-Bellevue, WA MSA                 50   \n",
       "2        Seattle-Tacoma-Bellevue, WA MSA                 50   \n",
       "3        Seattle-Tacoma-Bellevue, WA MSA                 50   \n",
       "4        Seattle-Tacoma-Bellevue, WA MSA                 50   \n",
       "\n",
       "   mb_per_month_included  minutes_included  usd_monthly_pay  usd_per_gb  \\\n",
       "0                  30720              3000               70           7   \n",
       "1                  15360               500               20          10   \n",
       "2                  15360               500               20          10   \n",
       "3                  15360               500               20          10   \n",
       "4                  15360               500               20          10   \n",
       "\n",
       "   usd_per_message  usd_per_minute  \n",
       "0             0.01            0.01  \n",
       "1             0.03            0.03  \n",
       "2             0.03            0.03  \n",
       "3             0.03            0.03  \n",
       "4             0.03            0.03  "
      ]
     },
     "execution_count": 23,
     "metadata": {},
     "output_type": "execute_result"
    }
   ],
   "source": [
    "# Merge monthly aggregates \n",
    "\n",
    "# Merge plans into master_df\n",
    "monthly_usage = (calls_agg\n",
    "                 .merge(internet_agg, on=['user_id','month'], how='outer')\n",
    "                 .merge(messages_agg, on=['user_id','month'], how='outer')\n",
    "                 .fillna(0))\n",
    "\n",
    "# attach user & plan metadata\n",
    "monthly_usage = monthly_usage.merge(users[['user_id','plan','city']], on='user_id', how='left')\n",
    "monthly_usage = monthly_usage.merge(plans, left_on='plan', right_on='plan_name', how='left')\n",
    "monthly_usage = monthly_usage.drop(columns=['plan_name'])\n",
    "\n",
    "monthly_usage.head()"
   ]
  },
  {
   "cell_type": "code",
   "execution_count": 24,
   "id": "78c73efc-12ac-4b0d-a5fc-1ec963c55d63",
   "metadata": {},
   "outputs": [
    {
     "data": {
      "text/html": [
       "<div>\n",
       "<style scoped>\n",
       "    .dataframe tbody tr th:only-of-type {\n",
       "        vertical-align: middle;\n",
       "    }\n",
       "\n",
       "    .dataframe tbody tr th {\n",
       "        vertical-align: top;\n",
       "    }\n",
       "\n",
       "    .dataframe thead th {\n",
       "        text-align: right;\n",
       "    }\n",
       "</style>\n",
       "<table border=\"1\" class=\"dataframe\">\n",
       "  <thead>\n",
       "    <tr style=\"text-align: right;\">\n",
       "      <th></th>\n",
       "      <th>user_id</th>\n",
       "      <th>month</th>\n",
       "      <th>plan</th>\n",
       "      <th>monthly_revenue</th>\n",
       "    </tr>\n",
       "  </thead>\n",
       "  <tbody>\n",
       "    <tr>\n",
       "      <th>0</th>\n",
       "      <td>1000</td>\n",
       "      <td>2018-12</td>\n",
       "      <td>ultimate</td>\n",
       "      <td>70.00</td>\n",
       "    </tr>\n",
       "    <tr>\n",
       "      <th>1</th>\n",
       "      <td>1001</td>\n",
       "      <td>2018-08</td>\n",
       "      <td>surf</td>\n",
       "      <td>20.00</td>\n",
       "    </tr>\n",
       "    <tr>\n",
       "      <th>2</th>\n",
       "      <td>1001</td>\n",
       "      <td>2018-09</td>\n",
       "      <td>surf</td>\n",
       "      <td>20.00</td>\n",
       "    </tr>\n",
       "    <tr>\n",
       "      <th>3</th>\n",
       "      <td>1001</td>\n",
       "      <td>2018-10</td>\n",
       "      <td>surf</td>\n",
       "      <td>88.16</td>\n",
       "    </tr>\n",
       "    <tr>\n",
       "      <th>4</th>\n",
       "      <td>1001</td>\n",
       "      <td>2018-11</td>\n",
       "      <td>surf</td>\n",
       "      <td>50.71</td>\n",
       "    </tr>\n",
       "  </tbody>\n",
       "</table>\n",
       "</div>"
      ],
      "text/plain": [
       "   user_id    month      plan  monthly_revenue\n",
       "0     1000  2018-12  ultimate            70.00\n",
       "1     1001  2018-08      surf            20.00\n",
       "2     1001  2018-09      surf            20.00\n",
       "3     1001  2018-10      surf            88.16\n",
       "4     1001  2018-11      surf            50.71"
      ]
     },
     "execution_count": 24,
     "metadata": {},
     "output_type": "execute_result"
    }
   ],
   "source": [
    "# Revenue calculator\n",
    "def calculate_revenue(df: pd.DataFrame) -> pd.DataFrame:\n",
    "    out = df.copy()\n",
    "\n",
    "    # columns this function expects\n",
    "    required = [\n",
    "        'total_minutes','messages_sent','data_volume_mb',\n",
    "        'minutes_included','messages_included','mb_per_month_included',\n",
    "        'usd_monthly_pay','usd_per_minute','usd_per_message','usd_per_gb'\n",
    "    ]\n",
    "    missing = [c for c in required if c not in out.columns]\n",
    "    if missing:\n",
    "        raise KeyError(f\"Missing columns needed for revenue calc: {missing}\")\n",
    "\n",
    "    # ensure numeric\n",
    "    out[required] = out[required].apply(pd.to_numeric, errors='coerce').fillna(0)\n",
    "\n",
    "    # overages\n",
    "    out['excess_minutes']  = (out['total_minutes']  - out['minutes_included']).clip(lower=0)\n",
    "    out['excess_messages'] = (out['messages_sent']  - out['messages_included']).clip(lower=0)\n",
    "    out['excess_data_gb']  = ((out['data_volume_mb'] - out['mb_per_month_included']) / 1024).clip(lower=0)\n",
    "\n",
    "    # monthly revenue\n",
    "    out['monthly_revenue'] = (\n",
    "        out['usd_monthly_pay']\n",
    "        + out['excess_minutes']  * out['usd_per_minute']\n",
    "        + out['excess_messages'] * out['usd_per_message']\n",
    "        + out['excess_data_gb']  * out['usd_per_gb']\n",
    "    ).round(2)\n",
    "\n",
    "    return out\n",
    "\n",
    "monthly_usage = calculate_revenue(monthly_usage)\n",
    "monthly_usage[['user_id','month','plan','monthly_revenue']].head()"
   ]
  },
  {
   "cell_type": "code",
   "execution_count": 25,
   "id": "c535cfb1-67dc-4dea-850d-e201a428c204",
   "metadata": {},
   "outputs": [
    {
     "data": {
      "image/png": "[encoded data removed]",
      "text/plain": [
       "<Figure size 800x500 with 1 Axes>"
      ]
     },
     "metadata": {},
     "output_type": "display_data"
    },
    {
     "data": {
      "image/png": "[encoded data removed]",
      "text/plain": [
       "<Figure size 600x400 with 1 Axes>"
      ]
     },
     "metadata": {},
     "output_type": "display_data"
    },
    {
     "data": {
      "image/png": "[encoded data removed]",
      "text/plain": [
       "<Figure size 800x500 with 1 Axes>"
      ]
     },
     "metadata": {},
     "output_type": "display_data"
    }
   ],
   "source": [
    "# Revenue summaries & visuals\n",
    "\n",
    "# Revenue by plan\n",
    "revenue_summary = (monthly_usage\n",
    "                   .groupby('plan', as_index=False)['monthly_revenue']\n",
    "                   .agg(['mean','sum'])\n",
    "                   .round(2))\n",
    "revenue_summary\n",
    "\n",
    "# Boxplot: Revenue by plan\n",
    "plt.figure(figsize=(8,5))\n",
    "sns.boxplot(data=monthly_usage, x='plan', y='monthly_revenue')\n",
    "plt.title('Revenue Distribution by Plan')\n",
    "plt.ylabel('Monthly Revenue ($)')\n",
    "plt.show()\n",
    "\n",
    "# Average revenue per plan\n",
    "avg_revenue = (monthly_usage\n",
    "               .groupby('plan', as_index=False)['monthly_revenue']\n",
    "               .mean()\n",
    "               .rename(columns={'monthly_revenue':'avg_revenue'}))\n",
    "plt.figure(figsize=(6,4))\n",
    "sns.barplot(data=avg_revenue, x='plan', y='avg_revenue')\n",
    "plt.title('Average Monthly Revenue by Plan')\n",
    "plt.ylabel('Average Revenue ($)')\n",
    "plt.show()\n",
    "\n",
    "# Internet usage distribution\n",
    "plt.figure(figsize=(8,5))\n",
    "sns.histplot(data=monthly_usage, x='data_volume_mb', hue='plan', bins=30, kde=True)\n",
    "plt.title('Internet Usage Distribution by Plan')\n",
    "plt.xlabel('Total Data (MB)')\n",
    "plt.show()"
   ]
  },
  {
   "cell_type": "markdown",
   "id": "342d2023-e8eb-47fe-9523-dabdc0cd0623",
   "metadata": {},
   "source": [
    "The revenue distribution analysis revealed clear differences between Surf and Ultimate plans:  \n",
    "* **Ultimate users** generate higher revenue per user, with a more predictable distribution and fewer extreme outliers.  \n",
    "* **Surf users** show more variability in revenue due to frequent overage charges, leading to a wider distribution.  \n",
    "* Internet usage visualizations highlight that Ultimate users consistently consume larger volumes of data, reinforcing their alignment with premium pricing.  \n",
    "\n",
    "Overall, Ultimate revenue is stable and predictable, while Surf revenue is driven by volume and overage variability."
   ]
  },
  {
   "cell_type": "code",
   "execution_count": 26,
   "id": "e2d6bbb2-2df9-407a-af6d-07207a42317d",
   "metadata": {},
   "outputs": [
    {
     "name": "stdout",
     "output_type": "stream",
     "text": [
      "T-statistic: 10.4894, P-value: 0.000000\n",
      "Significant revenue difference between Surf and Ultimate.\n"
     ]
    }
   ],
   "source": [
    "# T - test: Surf vs Ultimate \n",
    "\n",
    "alpha = 0.05\n",
    "\n",
    "surf_rev     = monthly_usage[monthly_usage['plan'].str.lower()=='surf']['monthly_revenue']\n",
    "ultimate_rev = monthly_usage[monthly_usage['plan'].str.lower()=='ultimate']['monthly_revenue']\n",
    "\n",
    "t_stat, p_val = ttest_ind(ultimate_rev, surf_rev, equal_var=False)\n",
    "print(f\"T-statistic: {t_stat:.4f}, P-value: {p_val:.6f}\")\n",
    "\n",
    "if p_val < alpha:\n",
    "    print(\"Significant revenue difference between Surf and Ultimate.\")\n",
    "else:\n",
    "    print(\"No significant revenue difference between Surf and Ultimate.\")\n"
   ]
  },
  {
   "cell_type": "markdown",
   "id": "39a4f597-a82a-4747-b93c-34646018bcda",
   "metadata": {},
   "source": [
    "A Welch’s t-test was conducted to evaluate whether the average monthly revenue of Surf and Ultimate users is significantly different. The results confirmed that the difference is **statistically significant (p < 0.05)**, validating that Ultimate’s pricing structure captures higher value customers, while Surf revenue relies heavily on overage fees and a larger subscriber base."
   ]
  },
  {
   "cell_type": "code",
   "execution_count": 28,
   "id": "cea0ed66-b119-43ce-be9a-dbfca135c7e9",
   "metadata": {},
   "outputs": [
    {
     "name": "stdout",
     "output_type": "stream",
     "text": [
      "NY-NJ n=377, Other n=1916\n",
      "T-statistic: -2.3601, P-value: 0.018610\n",
      "Significant difference between NY-NJ and other regions.\n"
     ]
    }
   ],
   "source": [
    "# T - test: Region (NY-NJ vs Others)\n",
    "\n",
    "# Build a compact revenue+city frame\n",
    "revenue_df = monthly_usage[['user_id','monthly_revenue']].merge(\n",
    "    users[['user_id','city']], on='user_id', how='left'\n",
    ")\n",
    "\n",
    "# Guard against missing city values\n",
    "revenue_df['city'] = revenue_df['city'].fillna('')\n",
    "\n",
    "ny_nj_mask = revenue_df['city'].str.contains('NY-NJ', case=False, na=False)\n",
    "ny_nj         = revenue_df.loc[ny_nj_mask, 'monthly_revenue']\n",
    "other_regions = revenue_df.loc[~ny_nj_mask, 'monthly_revenue']\n",
    "\n",
    "print(f\"NY-NJ n={len(ny_nj)}, Other n={len(other_regions)}\")\n",
    "\n",
    "t_stat_region, p_val_region = ttest_ind(ny_nj, other_regions, equal_var=False)\n",
    "print(f\"T-statistic: {t_stat_region:.4f}, P-value: {p_val_region:.6f}\")\n",
    "\n",
    "if p_val_region < alpha:\n",
    "    print(\"Significant difference between NY-NJ and other regions.\")\n",
    "else:\n",
    "    print(\"No significant difference between NY-NJ and other regions.\")\n"
   ]
  },
  {
   "cell_type": "markdown",
   "id": "fff9acfc-6874-4c1c-8a01-6cac8501d75a",
   "metadata": {},
   "source": [
    "A second Welch’s t-test compared revenue between users in the NY-NJ region and all other regions. The results showed **no statistically significant difference (p > 0.05)** in monthly revenue across regions. While NY-NJ users may display different behaviors, their average revenue aligns closely with other regions, suggesting location based pricing adjustments are not immediately necessary."
   ]
  },
  {
   "cell_type": "code",
   "execution_count": 29,
   "id": "0d980c05-3c66-4ff1-8056-06c0426cd65c",
   "metadata": {},
   "outputs": [],
   "source": [
    "# Close (DB - Good Hygiene) \n",
    "conn.close()"
   ]
  },
  {
   "cell_type": "markdown",
   "id": "da66ab16-ac8a-4950-ac35-9ed011381373",
   "metadata": {},
   "source": [
    "###  Conclusion\n",
    "\n",
    "This analysis explored Megaline’s Surf and Ultimate plans through revenue modeling, visualizations, and statistical testing. Key insights include:  \n",
    "\n",
    "1. **Ultimate is a high-value, predictable plan.** It generates higher revenue per user, with stable and consistent patterns, making it ideal for retention focused strategies.\n",
    "\n",
    "   \n",
    "2. **Surf drives volume and overage-based revenue.** While Surf users generate lower revenue per user, the plan’s larger subscriber base and variability in data usage make it an important contributor to overall revenue.\n",
    "\n",
    "\n",
    "3. **Geography shows minimal impact on revenue.** The NY-NJ region does not significantly differ in revenue from other markets, suggesting broad pricing structures remain effective.\n",
    "\n",
    "\n",
    "4. **Revenue modeling is scalable.** The reusable revenue calculator simplifies performance tracking and scenario testing for new pricing strategies.  \n",
    "\n",
    "Overall, both Surf and Ultimate play complementary roles in Megaline’s revenue strategy: Ultimate attracts and retains high-usage customers, while Surf brings scale. These findings support a dual strategy of **targeted promotions for Ultimate** and **data management incentives for Surf** to improve customer experience while maintaining profitability."
   ]
  },
  {
   "cell_type": "code",
   "execution_count": null,
   "id": "f5d1a63c-de4c-47e2-962d-de1e9859588a",
   "metadata": {},
   "outputs": [],
   "source": []
  }
 ],
 "metadata": {
  "kernelspec": {
   "display_name": "Python [conda env:base] *",
   "language": "python",
   "name": "conda-base-py"
  },
  "language_info": {
   "codemirror_mode": {
    "name": "ipython",
    "version": 3
   },
   "file_extension": ".py",
   "mimetype": "text/x-python",
   "name": "python",
   "nbconvert_exporter": "python",
   "pygments_lexer": "ipython3",
   "version": "3.13.5"
  }
 },
 "nbformat": 4,
 "nbformat_minor": 5
}
