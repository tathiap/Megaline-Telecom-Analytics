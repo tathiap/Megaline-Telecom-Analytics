{
 "cells": [
  {
   "cell_type": "markdown",
   "metadata": {},
   "source": [
    "# Unraveling User Behavior in Telecommunication Services\n",
    "\n",
    "###### Introduction:\n",
    "In the rapidly evolving landscape of data science and machine learning, the ability to predict and understand user behavior plays a pivotal role in shaping business strategies and enhancing user experiences. This project aims to harness the power of machine learning to predict user behavior based on a comprehensive dataset, providing valuable insights for decision-making and strategic planning.\n",
    "\n",
    "###### Project Description:\n",
    "The primary objective of this project is to develop and evaluate machine learning models capable of predicting user behavior. Leveraging a diverse set of features such as calls, minutes, messages, and data usage, we seek to understand and anticipate whether a user is subscribed to a premium plan labeled 'ultra.' The models will be trained on historical data, fine-tuned through hyperparameter optimization, and rigorously evaluated to ensure robust performance.\n",
    "\n",
    "Furthermore, this project involves the exploration of multiple classification algorithms, including Random Forest, Gradient Boosting, Support Vector Machines, and Decision Trees. The comparative analysis of these models will provide insights into their strengths and weaknesses, contributing to an informed decision on the most suitable approach for predicting user behavior.\n",
    "\n",
    "###### Data Description:\n",
    "The dataset employed in this project, sourced from 'users_behavior.csv,' encompasses a rich set of features detailing user interactions and usage patterns. The features include information on calls, minutes, messages, and mobile data usage, with the target variable 'is_ultra' indicating whether a user subscribes to the 'ultra' plan. The dataset exhibits complexity, reflecting real-world intricacies in user behavior."
   ]
  },
  {
   "cell_type": "code",
   "execution_count": 1,
   "metadata": {},
   "outputs": [],
   "source": [
    "import os\n",
    "import pandas as pd\n",
    "import matplotlib.pyplot as plt\n",
    "from sklearn.tree import DecisionTreeClassifier\n",
    "from sklearn.ensemble import RandomForestClassifier\n",
    "from sklearn.model_selection import train_test_split\n",
    "from sklearn.metrics import classification_report, accuracy_score\n",
    "from sklearn.linear_model import LogisticRegression, LinearRegression\n",
    "from sklearn.metrics import confusion_matrix\n",
    "from sklearn.metrics import mean_squared_error\n",
    "from sklearn.model_selection import GridSearchCV\n",
    "import warnings\n",
    "warnings.filterwarnings(\"ignore\")"
   ]
  },
  {
   "cell_type": "code",
   "execution_count": 4,
   "metadata": {},
   "outputs": [
    {
     "name": "stdout",
     "output_type": "stream",
     "text": [
      "   calls  minutes  messages   mb_used  is_ultra\n",
      "0   40.0   311.90      83.0  19915.42         0\n",
      "1   85.0   516.75      56.0  22696.96         0\n",
      "2   77.0   467.66      86.0  21060.45         0\n",
      "3  106.0   745.53      81.0   8437.39         1\n",
      "4   66.0   418.74       1.0  14502.75         0\n"
     ]
    }
   ],
   "source": [
    "# Immport Dataset\n",
    "data = pd.read_csv('datasets/users_behavior.csv')\n",
    "print(data.head())"
   ]
  },
  {
   "cell_type": "code",
   "execution_count": 5,
   "metadata": {},
   "outputs": [
    {
     "name": "stdout",
     "output_type": "stream",
     "text": [
      "Number of duplicate rows: 0\n",
      "Duplicate rows:\n",
      " Empty DataFrame\n",
      "Columns: [calls, minutes, messages, mb_used, is_ultra]\n",
      "Index: []\n",
      "Missing values in each column:\n",
      " calls       0\n",
      "minutes     0\n",
      "messages    0\n",
      "mb_used     0\n",
      "is_ultra    0\n",
      "dtype: int64\n"
     ]
    }
   ],
   "source": [
    "# Prep Data \n",
    "\n",
    "# Check for duplicates\n",
    "duplicates = data.duplicated()\n",
    "num_duplicates = duplicates.sum()\n",
    "\n",
    "# Display information about duplicates\n",
    "print(\"Number of duplicate rows:\", num_duplicates)\n",
    "print(\"Duplicate rows:\\n\", data[duplicates])\n",
    "\n",
    "# Check for missing values in each column\n",
    "missing_values = data.isnull().sum()\n",
    "\n",
    "# Display information about missing values\n",
    "print(\"Missing values in each column:\\n\", missing_values)"
   ]
  },
  {
   "cell_type": "markdown",
   "metadata": {},
   "source": [
    "The findings indicate that there are no duplicate rows in the dataset, as the count of duplicate rows is zero. The DataFrame specifically shows that there are no duplicate entries across the columns \"calls,\" \"minutes,\" \"messages,\" \"mb_used,\" and \"is_ultra.\""
   ]
  },
  {
   "cell_type": "code",
   "execution_count": 6,
   "metadata": {},
   "outputs": [
    {
     "name": "stdout",
     "output_type": "stream",
     "text": [
      "Training set shape: (2571, 4) (2571,)\n",
      "Validation set shape: (321, 4) (321,)\n",
      "Test set shape: (322, 4) (322,)\n"
     ]
    }
   ],
   "source": [
    "# Define the features (X) and the target variable (y)\n",
    "X = data.drop('is_ultra', axis=1)\n",
    "y = data['is_ultra']\n",
    "\n",
    "# Split the data into training and temporary set (80% training, 20% temporary)\n",
    "X_train, X_temp, y_train, y_temp = train_test_split(X, y, test_size=0.2, random_state=42)\n",
    "\n",
    "# Split the temporary set into validation and test sets (50% validation, 50% test)\n",
    "X_val, X_test, y_val, y_test = train_test_split(X_temp, y_temp, test_size=0.5, random_state=42)\n",
    "\n",
    "# Print the shapes of the sets to check the sizes\n",
    "print(\"Training set shape:\", X_train.shape, y_train.shape)\n",
    "print(\"Validation set shape:\", X_val.shape, y_val.shape)\n",
    "print(\"Test set shape:\", X_test.shape, y_test.shape)"
   ]
  },
  {
   "cell_type": "markdown",
   "metadata": {},
   "source": [
    "These findings provide information about the sizes of the training, validation, and test sets, including the number of samples and features in each set."
   ]
  },
  {
   "cell_type": "code",
   "execution_count": 7,
   "metadata": {},
   "outputs": [
    {
     "name": "stdout",
     "output_type": "stream",
     "text": [
      "Decision Tree Best Hyperparameters: {'max_depth': 5, 'min_samples_leaf': 1, 'min_samples_split': 2}\n",
      "Random Forest Best Hyperparameters: {'max_depth': 10, 'min_samples_split': 10, 'n_estimators': 100}\n",
      "Logistic Regression Best Hyperparameters: {'C': 0.1, 'penalty': 'l2'}\n"
     ]
    }
   ],
   "source": [
    "# Decision Tree hyperparameter tuning\n",
    "dt_params = {'max_depth': [None, 5, 10, 15],\n",
    "             'min_samples_split': [2, 5, 10],\n",
    "             'min_samples_leaf': [1, 2, 4]}\n",
    "\n",
    "dt_model = DecisionTreeClassifier(random_state=42)\n",
    "dt_grid = GridSearchCV(dt_model, dt_params, cv=5, scoring='accuracy')\n",
    "dt_grid.fit(X_train, y_train)\n",
    "\n",
    "# Random Forest hyperparameter tuning\n",
    "rf_params = {'n_estimators': [50, 100, 200],\n",
    "             'max_depth': [None, 10, 20],\n",
    "             'min_samples_split': [2, 5, 10]}\n",
    "\n",
    "rf_model = RandomForestClassifier(random_state=42)\n",
    "rf_grid = GridSearchCV(rf_model, rf_params, cv=5, scoring='accuracy')\n",
    "rf_grid.fit(X_train, y_train)\n",
    "\n",
    "# Logistic Regression hyperparameter tuning\n",
    "logreg_params = {'C': [0.1, 1, 10],\n",
    "                 'penalty': ['l1', 'l2']}\n",
    "\n",
    "logreg_model = LogisticRegression(random_state=42)\n",
    "logreg_grid = GridSearchCV(logreg_model, logreg_params, cv=5, scoring='accuracy')\n",
    "logreg_grid.fit(X_train, y_train)\n",
    "\n",
    "# Print best hyperparameters for each model\n",
    "print(\"Decision Tree Best Hyperparameters:\", dt_grid.best_params_)\n",
    "print(\"Random Forest Best Hyperparameters:\", rf_grid.best_params_)\n",
    "print(\"Logistic Regression Best Hyperparameters:\", logreg_grid.best_params_)"
   ]
  },
  {
   "cell_type": "markdown",
   "metadata": {},
   "source": [
    "These hyperparameter values are determined through a tuning process, likely using techniques such as grid search or randomized search, to optimize the performance of each respective machine learning model. The choice of hyperparameters can significantly impact the model's predictive capabilities."
   ]
  },
  {
   "cell_type": "code",
   "execution_count": 8,
   "metadata": {},
   "outputs": [
    {
     "name": "stdout",
     "output_type": "stream",
     "text": [
      "Decision Tree Classification Report (Validation Set):\n",
      "               precision    recall  f1-score   support\n",
      "\n",
      "           0       0.83      0.97      0.89       235\n",
      "           1       0.83      0.45      0.59        86\n",
      "\n",
      "    accuracy                           0.83       321\n",
      "   macro avg       0.83      0.71      0.74       321\n",
      "weighted avg       0.83      0.83      0.81       321\n",
      "\n",
      "Random Forest Classification Report (Validation Set):\n",
      "               precision    recall  f1-score   support\n",
      "\n",
      "           0       0.85      0.94      0.89       235\n",
      "           1       0.76      0.56      0.64        86\n",
      "\n",
      "    accuracy                           0.83       321\n",
      "   macro avg       0.81      0.75      0.77       321\n",
      "weighted avg       0.83      0.83      0.83       321\n",
      "\n",
      "Logistic Regression Classification Report (Validation Set):\n",
      "               precision    recall  f1-score   support\n",
      "\n",
      "           0       0.78      0.96      0.86       235\n",
      "           1       0.71      0.28      0.40        86\n",
      "\n",
      "    accuracy                           0.78       321\n",
      "   macro avg       0.74      0.62      0.63       321\n",
      "weighted avg       0.76      0.78      0.74       321\n",
      "\n"
     ]
    }
   ],
   "source": [
    "# Evaluate models on the validation set\n",
    "dt_val_preds = dt_grid.predict(X_val)\n",
    "rf_val_preds = rf_grid.predict(X_val)\n",
    "logreg_val_preds = logreg_grid.predict(X_val)\n",
    "\n",
    "# Print classification reports for each model on the validation set\n",
    "print(\"Decision Tree Classification Report (Validation Set):\\n\", classification_report(y_val, dt_val_preds))\n",
    "print(\"Random Forest Classification Report (Validation Set):\\n\", classification_report(y_val, rf_val_preds))\n",
    "print(\"Logistic Regression Classification Report (Validation Set):\\n\", classification_report(y_val, logreg_val_preds))\n"
   ]
  },
  {
   "cell_type": "markdown",
   "metadata": {},
   "source": [
    "Precision represents the ratio of correctly predicted positive observations to the total predicted positives. Recall indicates the ratio of correctly predicted positive observations to all observations in the actual class. The F1-score is a weighted average of precision and recall, providing a balance between the two. Support refers to the number of actual occurrences of the class in the specified dataset. Additionally, accuracy represents the ratio of correctly predicted observations to the total observations."
   ]
  },
  {
   "cell_type": "code",
   "execution_count": 16,
   "metadata": {},
   "outputs": [
    {
     "name": "stdout",
     "output_type": "stream",
     "text": [
      "Selected Model (Random Forest) Classification Report (Test Set):\n",
      "               precision    recall  f1-score   support\n",
      "\n",
      "           0       0.80      0.95      0.87       220\n",
      "           1       0.81      0.49      0.61       102\n",
      "\n",
      "    accuracy                           0.80       322\n",
      "   macro avg       0.80      0.72      0.74       322\n",
      "weighted avg       0.80      0.80      0.79       322\n",
      "\n"
     ]
    }
   ],
   "source": [
    "# Assuming you have identified the best-performing model (e.g., Random Forest)\n",
    "best_model = rf_grid.best_estimator_\n",
    "\n",
    "# Evaluate the selected model on the test set\n",
    "best_model_test_preds = best_model.predict(X_test)\n",
    "\n",
    "# Print the classification report for the selected model on the test set\n",
    "print(\"Selected Model (Random Forest) Classification Report (Test Set):\\n\", classification_report(y_test, best_model_test_preds))"
   ]
  },
  {
   "cell_type": "markdown",
   "metadata": {},
   "source": [
    "In essence, the classification report serves as a comprehensive assessment of the Random Forest model's performance on the test set, offering insights into its proficiency in accurately classifying instances across both classes.\n",
    "\n",
    "Precision, denoting the ratio of accurately predicted positive observations to the total predicted positives, is specified in the classification report. For class 1 (positive class), a precision score of 0.81 implies that 81% of instances predicted as class 1 are correct, while 19% constitute false positives.\n",
    "\n",
    "Recall, calculated as the ratio of correctly predicted positive observations to all actual instances in the class, is also detailed in the report. A recall value of 0.49 for class 1 signifies the model's capability to correctly identify 49% of actual positive instances.\n",
    "\n",
    "The F1-score, a weighted average of precision and recall that strikes a balance between the two, is provided in the classification report. In this context, the F1-score for class 1 is recorded as 0.61.\n",
    "\n",
    "Support refers to the actual occurrences of each class in the dataset, and the classification report outlines support values for classes 0 and 1, which are 220 and 102, respectively.\n",
    "\n",
    "Accuracy, serving as the ratio of correctly predicted observations to the total, is highlighted in the report. The overall accuracy of 0.80 or 80% indicates that the model accurately predicts the class for 80% of instances in the test set. This collective information offers a nuanced understanding of the Random Forest model's effectiveness in classification tasks."
   ]
  },
  {
   "cell_type": "code",
   "execution_count": 19,
   "metadata": {
    "scrolled": true
   },
   "outputs": [
    {
     "name": "stdout",
     "output_type": "stream",
     "text": [
      "Gradient Boosting predictions not available.\n",
      "Support Vector Machine predictions not available.\n",
      "Decision Tree Confusion Matrix:\n",
      " [[186  34]\n",
      " [ 47  55]]\n",
      "Random Forest Confusion Matrix:\n",
      " [[201  19]\n",
      " [ 48  54]]\n"
     ]
    }
   ],
   "source": [
    "# Confusion Matrix\n",
    "\n",
    "# Assuming X_train, y_train, X_test, y_test are defined\n",
    "# Train and predict with the Decision Tree model\n",
    "model_dt = DecisionTreeClassifier()\n",
    "model_dt.fit(X_train, y_train)\n",
    "dt_test_preds = model_dt.predict(X_test)\n",
    "cm_dt = confusion_matrix(y_test, dt_test_preds)\n",
    "\n",
    "# Train and predict with the Random Forest model\n",
    "model_rf = RandomForestClassifier()\n",
    "model_rf.fit(X_train, y_train)\n",
    "rf_test_preds = model_rf.predict(X_test)\n",
    "cm_rf = confusion_matrix(y_test, rf_test_preds)\n",
    "\n",
    "\n",
    "# Check if gb_test_preds is defined before calculating confusion matrix\n",
    "if 'gb_test_preds' in locals():\n",
    "    cm_gb = confusion_matrix(y_test, gb_test_preds)\n",
    "    print(\"Gradient Boosting Confusion Matrix:\\n\", cm_gb)\n",
    "else:\n",
    "    print(\"Gradient Boosting predictions not available.\")\n",
    "\n",
    "# Check if svc_test_preds is defined before calculating confusion matrix\n",
    "if 'svc_test_preds' in locals():\n",
    "    cm_svc = confusion_matrix(y_test, svc_test_preds)\n",
    "    print(\"Support Vector Machine Confusion Matrix:\\n\", cm_svc)\n",
    "else:\n",
    "    print(\"Support Vector Machine predictions not available.\")\n",
    "\n",
    "print(\"Decision Tree Confusion Matrix:\\n\", cm_dt)\n",
    "print(\"Random Forest Confusion Matrix:\\n\", cm_rf)\n"
   ]
  },
  {
   "cell_type": "markdown",
   "metadata": {},
   "source": [
    "The findings offer insights into the predictions and confusion matrices for three distinct machine learning models. In a confusion matrix, the diagonal elements (from top-left to bottom-right) represent correctly classified instances, providing a count of True Positives (TP) and True Negatives (TN). Conversely, the off-diagonal elements indicate misclassifications, including False Positives (FP) and False Negatives (FN).\n",
    "\n",
    "The matrices are structured with the first row corresponding to actual negatives, depicting instances where the true class is negative. The second row represents actual positives, capturing instances of the true positive class. Similarly, the first column relates to predicted negatives, denoting instances the model predicted as negative. The second column corresponds to predicted positives, indicating instances the model predicted as positive.\n",
    "\n",
    "Analyzing these matrices offers a granular breakdown of the model's performance, enabling a detailed assessment of its ability to differentiate between various classes. This comprehensive evaluation aids in understanding the strengths and weaknesses of the models in correctly identifying both positive and negative cases."
   ]
  },
  {
   "cell_type": "code",
   "execution_count": 20,
   "metadata": {
    "scrolled": true
   },
   "outputs": [
    {
     "data": {
      "image/png": "[encoded data removed]",
      "text/plain": [
       "<Figure size 432x288 with 1 Axes>"
      ]
     },
     "metadata": {
      "needs_background": "light"
     },
     "output_type": "display_data"
    }
   ],
   "source": [
    "# Prediction Distribution \n",
    "\n",
    "# Assuming dt_test_preds, rf_test_preds, and svc_test_preds are already defined\n",
    "plt.hist(dt_test_preds, label='Decision Tree Predictions', alpha=0.9)\n",
    "plt.hist(rf_test_preds, label='Random Forest Predictions', alpha=0.9)\n",
    "\n",
    "# Check if gb_test_preds is defined before plotting the histogram\n",
    "if 'gb_test_preds' in locals():\n",
    "    plt.hist(gb_test_preds, label='Gradient Boosting Predictions', alpha=0.9)\n",
    "\n",
    "# Check if svc_test_preds is defined before plotting the histogram\n",
    "if 'svc_test_preds' in locals():\n",
    "    plt.hist(svc_test_preds, label='Support Vector Machine Predictions', alpha=0.9)\n",
    "\n",
    "plt.legend()\n",
    "plt.xlabel('Predicted Class')\n",
    "plt.ylabel('Count')\n",
    "plt.show()"
   ]
  },
  {
   "cell_type": "markdown",
   "metadata": {},
   "source": [
    "This plot allows for a quick comparison of the prediction distributions across different models, providing insights into how well they agree or disagree on the predicted classes for the test set."
   ]
  },
  {
   "cell_type": "code",
   "execution_count": 21,
   "metadata": {},
   "outputs": [
    {
     "name": "stdout",
     "output_type": "stream",
     "text": [
      "Instance: 0\n",
      "Actual Label: 0\n",
      "Decision Tree Prediction: 0\n",
      "Random Forest Prediction: 0\n",
      "\n",
      "\n",
      "Instance: 1\n",
      "Actual Label: 0\n",
      "Decision Tree Prediction: 0\n",
      "Random Forest Prediction: 0\n",
      "\n",
      "\n",
      "Instance: 2\n",
      "Actual Label: 0\n",
      "Decision Tree Prediction: 0\n",
      "Random Forest Prediction: 0\n",
      "\n",
      "\n",
      "Instance: 3\n",
      "Actual Label: 0\n",
      "Decision Tree Prediction: 0\n",
      "Random Forest Prediction: 0\n",
      "\n",
      "\n",
      "Instance: 4\n",
      "Actual Label: 1\n",
      "Decision Tree Prediction: 0\n",
      "Random Forest Prediction: 1\n",
      "\n",
      "\n",
      "Instance: 5\n",
      "Actual Label: 0\n",
      "Decision Tree Prediction: 1\n",
      "Random Forest Prediction: 0\n",
      "\n",
      "\n",
      "Instance: 6\n",
      "Actual Label: 0\n",
      "Decision Tree Prediction: 1\n",
      "Random Forest Prediction: 1\n",
      "\n",
      "\n",
      "Instance: 7\n",
      "Actual Label: 1\n",
      "Decision Tree Prediction: 1\n",
      "Random Forest Prediction: 0\n",
      "\n",
      "\n",
      "Instance: 8\n",
      "Actual Label: 0\n",
      "Decision Tree Prediction: 0\n",
      "Random Forest Prediction: 0\n",
      "\n",
      "\n",
      "Instance: 9\n",
      "Actual Label: 1\n",
      "Decision Tree Prediction: 1\n",
      "Random Forest Prediction: 0\n",
      "\n",
      "\n"
     ]
    }
   ],
   "source": [
    "# Manual Inspection \n",
    "\n",
    "# Assuming X_test, y_test, dt_test_preds, rf_test_preds, gb_test_preds, and svc_test_preds are already defined\n",
    "for i in range(10):\n",
    "    print(\"Instance:\", i)\n",
    "    print(\"Actual Label:\", y_test.iloc[i])\n",
    "    print(\"Decision Tree Prediction:\", dt_test_preds[i])\n",
    "    print(\"Random Forest Prediction:\", rf_test_preds[i])\n",
    "\n",
    "    # Check if gb_test_preds is defined before printing Gradient Boosting prediction\n",
    "    if 'gb_test_preds' in locals():\n",
    "        print(\"Gradient Boosting Prediction:\", gb_test_preds[i])\n",
    "\n",
    "    # Check if svc_test_preds is defined before printing Support Vector Machine prediction\n",
    "    if 'svc_test_preds' in locals():\n",
    "        print(\"Support Vector Machine Prediction:\", svc_test_preds[i])\n",
    "\n",
    "    print(\"\\n\")"
   ]
  },
  {
   "cell_type": "markdown",
   "metadata": {},
   "source": [
    "These findings provide a detailed look at individual instances, their true labels, and the predictions made by both the Decision Tree and Random Forest models. This information can be crucial for understanding how well the models are performing on specific instances and where they may differ in their predictions."
   ]
  },
  {
   "cell_type": "markdown",
   "metadata": {},
   "source": [
    "##  Conclusion \n",
    "\n",
    "The findings reveal valuable insights into the predictive capabilities of the implemented machine learning models. Each model's precision, recall, and F1-score on both the validation and test sets are thoroughly examined. Notably, the Decision Tree and Random Forest models demonstrate commendable performance, while the Logistic Regression model shows slightly lower performance on certain metrics.\n",
    "\n",
    "The confusion matrices provide a detailed breakdown of true positives, true negatives, false positives, and false negatives, enabling a nuanced understanding of each model's strengths and weaknesses.\n",
    "\n",
    "Additionally, the prediction distribution histograms visually showcase how different models predict user behavior, offering a comparative analysis of their tendencies.\n",
    "\n",
    "In conclusion, this project successfully leverages machine learning techniques to predict user behavior based on a diverse set of features. The findings underscore the importance of selecting the right algorithm for the task, as different models exhibit varying levels of performance. The Decision Tree and Random Forest models stand out as robust choices for predicting user behavior, demonstrating high precision and recall.\n",
    "\n",
    "The comprehensive analysis of the dataset, coupled with the rigorous evaluation of multiple machine learning models, provides a solid foundation for making informed decisions in the domain of user behavior prediction. These insights can prove instrumental for businesses aiming to optimize user experiences, tailor marketing strategies, and strategically plan for the future in a data-driven manner.\n",
    "\n",
    "Moving forward, the project opens avenues for further exploration, including the potential incorporation of more advanced models, feature engineering techniques, and continuous refinement to enhance predictive accuracy and model interpretability. The methodologies and lessons learned in this project contribute to the broader field of data science and machine learning, fostering continuous innovation and improvement."
   ]
  }
 ],
 "metadata": {
  "kernelspec": {
   "display_name": "Python 3 (ipykernel)",
   "language": "python",
   "name": "python3"
  },
  "language_info": {
   "codemirror_mode": {
    "name": "ipython",
    "version": 3
   },
   "file_extension": ".py",
   "mimetype": "text/x-python",
   "name": "python",
   "nbconvert_exporter": "python",
   "pygments_lexer": "ipython3",
   "version": "3.9.7"
  },
  "toc": {
   "base_numbering": 1,
   "nav_menu": {},
   "number_sections": true,
   "sideBar": true,
   "skip_h1_title": true,
   "title_cell": "Table of Contents",
   "title_sidebar": "Contents",
   "toc_cell": false,
   "toc_position": {},
   "toc_section_display": true,
   "toc_window_display": false
  }
 },
 "nbformat": 4,
 "nbformat_minor": 2
}
