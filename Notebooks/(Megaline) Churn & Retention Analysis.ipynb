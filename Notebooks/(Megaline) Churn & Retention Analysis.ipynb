{
 "cells": [
  {
   "cell_type": "markdown",
   "id": "99b827d5-9731-467b-b54f-73de03c66b93",
   "metadata": {},
   "source": [
    "# Churn & Retention Analysis (Megaline)"
   ]
  },
  {
   "cell_type": "markdown",
   "id": "36875b3b-91c7-45c9-b6e2-79019363d20d",
   "metadata": {},
   "source": [
    "## **Project Overview**\n",
    "The goal of this analysis is to measure **churn rate** and **retention rate** for Megaline’s Surf and Ultra plans.  \n",
    "- **Churn Rate**: Percentage of users who stop using the service (no calls, messages, or data usage).  \n",
    "- **Retention Rate**: Percentage of users who remain active during the observed period.  \n",
    "- **Objective**: Compare churn and retention between Surf and Ultra plans to understand customer loyalty and lifetime value (LTV).\n"
   ]
  },
  {
   "cell_type": "code",
   "execution_count": 1,
   "id": "49a80fac-8e01-43e4-85cb-e89cb570d17a",
   "metadata": {},
   "outputs": [],
   "source": [
    "import mysql.connector\n",
    "import pandas as pd\n",
    "import matplotlib.pyplot as plt"
   ]
  },
  {
   "cell_type": "code",
   "execution_count": 2,
   "id": "f74f49bd-9015-40a9-b314-c8bf8ebb482d",
   "metadata": {},
   "outputs": [],
   "source": [
    "# Connect to MySQL\n",
    "conn = mysql.connector.connect(\n",
    "    host=\"localhost\",\n",
    "    user=\"root\",\n",
    "    password=\"September97!\",\n",
    "    database=\"megaline_db\"\n",
    ")"
   ]
  },
  {
   "cell_type": "code",
   "execution_count": 3,
   "id": "83475a07-68ef-483e-84af-51a05c37801c",
   "metadata": {},
   "outputs": [
    {
     "name": "stderr",
     "output_type": "stream",
     "text": [
      "/var/folders/p3/43px2jb159dgb_cp9t6gw27h0000gn/T/ipykernel_48682/4267901689.py:22: UserWarning: pandas only supports SQLAlchemy connectable (engine/connection) or database string URI or sqlite3 DBAPI2 connection. Other DBAPI2 objects are not tested. Please consider using SQLAlchemy.\n",
      "  churn_df = pd.read_sql(churn_query, conn)\n"
     ]
    },
    {
     "data": {
      "text/html": [
       "<div>\n",
       "<style scoped>\n",
       "    .dataframe tbody tr th:only-of-type {\n",
       "        vertical-align: middle;\n",
       "    }\n",
       "\n",
       "    .dataframe tbody tr th {\n",
       "        vertical-align: top;\n",
       "    }\n",
       "\n",
       "    .dataframe thead th {\n",
       "        text-align: right;\n",
       "    }\n",
       "</style>\n",
       "<table border=\"1\" class=\"dataframe\">\n",
       "  <thead>\n",
       "    <tr style=\"text-align: right;\">\n",
       "      <th></th>\n",
       "      <th>is_ultra</th>\n",
       "      <th>total_users</th>\n",
       "      <th>churned_users</th>\n",
       "      <th>churn_rate</th>\n",
       "    </tr>\n",
       "  </thead>\n",
       "  <tbody>\n",
       "    <tr>\n",
       "      <th>0</th>\n",
       "      <td>0</td>\n",
       "      <td>2229</td>\n",
       "      <td>0.0</td>\n",
       "      <td>0.0</td>\n",
       "    </tr>\n",
       "    <tr>\n",
       "      <th>1</th>\n",
       "      <td>1</td>\n",
       "      <td>985</td>\n",
       "      <td>0.0</td>\n",
       "      <td>0.0</td>\n",
       "    </tr>\n",
       "  </tbody>\n",
       "</table>\n",
       "</div>"
      ],
      "text/plain": [
       "   is_ultra  total_users  churned_users  churn_rate\n",
       "0         0         2229            0.0         0.0\n",
       "1         1          985            0.0         0.0"
      ]
     },
     "metadata": {},
     "output_type": "display_data"
    }
   ],
   "source": [
    "# SQL Query for churn rate\n",
    "churn_query = \"\"\"\n",
    "SELECT\n",
    "    is_ultra,\n",
    "    COUNT(DISTINCT user_id) AS total_users,\n",
    "    SUM(CASE WHEN usage_flag = 0 THEN 1 ELSE 0 END) AS churned_users,\n",
    "    ROUND(SUM(CASE WHEN usage_flag = 0 THEN 1 ELSE 0 END) / COUNT(DISTINCT user_id), 4) AS churn_rate\n",
    "FROM (\n",
    "    SELECT \n",
    "        user_id,\n",
    "        is_ultra,\n",
    "        CASE \n",
    "            WHEN SUM(calls) = 0 AND SUM(messages) = 0 AND SUM(mb_used) = 0 THEN 0\n",
    "            ELSE 1\n",
    "        END AS usage_flag\n",
    "    FROM users_behavior\n",
    "    GROUP BY user_id, is_ultra\n",
    ") AS user_activity\n",
    "GROUP BY is_ultra;\n",
    "\"\"\"\n",
    "\n",
    "churn_df = pd.read_sql(churn_query, conn)\n",
    "display(churn_df)"
   ]
  },
  {
   "cell_type": "code",
   "execution_count": 4,
   "id": "62bb98c6-21d0-4115-84ab-60192836521b",
   "metadata": {},
   "outputs": [
    {
     "data": {
      "text/html": [
       "<div>\n",
       "<style scoped>\n",
       "    .dataframe tbody tr th:only-of-type {\n",
       "        vertical-align: middle;\n",
       "    }\n",
       "\n",
       "    .dataframe tbody tr th {\n",
       "        vertical-align: top;\n",
       "    }\n",
       "\n",
       "    .dataframe thead th {\n",
       "        text-align: right;\n",
       "    }\n",
       "</style>\n",
       "<table border=\"1\" class=\"dataframe\">\n",
       "  <thead>\n",
       "    <tr style=\"text-align: right;\">\n",
       "      <th></th>\n",
       "      <th>is_ultra</th>\n",
       "      <th>total_users</th>\n",
       "      <th>churned_users</th>\n",
       "      <th>churn_rate</th>\n",
       "      <th>retention_rate</th>\n",
       "    </tr>\n",
       "  </thead>\n",
       "  <tbody>\n",
       "    <tr>\n",
       "      <th>0</th>\n",
       "      <td>0</td>\n",
       "      <td>2229</td>\n",
       "      <td>0.0</td>\n",
       "      <td>0.0</td>\n",
       "      <td>1.0</td>\n",
       "    </tr>\n",
       "    <tr>\n",
       "      <th>1</th>\n",
       "      <td>1</td>\n",
       "      <td>985</td>\n",
       "      <td>0.0</td>\n",
       "      <td>0.0</td>\n",
       "      <td>1.0</td>\n",
       "    </tr>\n",
       "  </tbody>\n",
       "</table>\n",
       "</div>"
      ],
      "text/plain": [
       "   is_ultra  total_users  churned_users  churn_rate  retention_rate\n",
       "0         0         2229            0.0         0.0             1.0\n",
       "1         1          985            0.0         0.0             1.0"
      ]
     },
     "metadata": {},
     "output_type": "display_data"
    }
   ],
   "source": [
    "# Add retention rate\n",
    "churn_df['retention_rate'] = 1 - churn_df['churn_rate']\n",
    "display(churn_df)"
   ]
  },
  {
   "cell_type": "code",
   "execution_count": 5,
   "id": "18be3cf3-4cbc-4f62-ace8-195ea900b6d3",
   "metadata": {},
   "outputs": [
    {
     "data": {
      "image/png": "[encoded data removed]",
      "text/plain": [
       "<Figure size 800x500 with 1 Axes>"
      ]
     },
     "metadata": {},
     "output_type": "display_data"
    }
   ],
   "source": [
    "# Plot churn vs retention\n",
    "churn_df[['churn_rate', 'retention_rate']].plot(\n",
    "    kind='bar',\n",
    "    figsize=(8,5),\n",
    "    title='Churn vs Retention by Plan'\n",
    ")\n",
    "plt.xticks([0,1], ['Surf (0)', 'Ultra (1)'], rotation=0)\n",
    "plt.ylabel('Rate')\n",
    "plt.show()"
   ]
  },
  {
   "cell_type": "code",
   "execution_count": 6,
   "id": "cfabfdde-5f00-47e7-ba03-3ba2c6497d96",
   "metadata": {},
   "outputs": [
    {
     "data": {
      "image/png": "[encoded data removed]",
      "text/plain": [
       "<Figure size 800x500 with 1 Axes>"
      ]
     },
     "metadata": {},
     "output_type": "display_data"
    }
   ],
   "source": [
    "# Plot churn vs retention\n",
    "churn_df[['churn_rate', 'retention_rate']].plot(\n",
    "    kind='bar',\n",
    "    figsize=(8,5),\n",
    "    title='Churn vs Retention by Plan'\n",
    ")\n",
    "plt.xticks([0,1], ['Surf (0)', 'Ultra (1)'], rotation=0)\n",
    "plt.ylabel('Rate')\n",
    "plt.show()"
   ]
  },
  {
   "cell_type": "code",
   "execution_count": 7,
   "id": "36596a32-33d4-461f-a61b-b2aeaaf350ff",
   "metadata": {},
   "outputs": [
    {
     "name": "stdout",
     "output_type": "stream",
     "text": [
      "\n",
      "=== Churn & Retention Insights ===\n",
      "Surf Plan: Churn = 0.00%, Retention = 100.00%\n",
      "Ultra Plan: Churn = 0.00%, Retention = 100.00%\n",
      "Surf plan retains customers better than Ultra.\n",
      "Recommendation: Consider improving the plan with higher churn or offering retention incentives.\n"
     ]
    }
   ],
   "source": [
    "# Insights generator for churn/retention\n",
    "def churn_insights(df):\n",
    "    surf = df[df['is_ultra'] == 0].iloc[0]\n",
    "    ultra = df[df['is_ultra'] == 1].iloc[0]\n",
    "\n",
    "    print(\"\\n=== Churn & Retention Insights ===\")\n",
    "    print(f\"Surf Plan: Churn = {surf['churn_rate']:.2%}, Retention = {surf['retention_rate']:.2%}\")\n",
    "    print(f\"Ultra Plan: Churn = {ultra['churn_rate']:.2%}, Retention = {ultra['retention_rate']:.2%}\")\n",
    "    \n",
    "    if ultra['churn_rate'] < surf['churn_rate']:\n",
    "        print(\"Ultra plan retains customers better than Surf.\")\n",
    "    else:\n",
    "        print(\"Surf plan retains customers better than Ultra.\")\n",
    "    \n",
    "    print(\"Recommendation: Consider improving the plan with higher churn or offering retention incentives.\")\n",
    "\n",
    "churn_insights(churn_df)"
   ]
  },
  {
   "cell_type": "code",
   "execution_count": null,
   "id": "0bff9845-a700-4ca7-b38b-53e0d14c7f9d",
   "metadata": {},
   "outputs": [],
   "source": []
  }
 ],
 "metadata": {
  "kernelspec": {
   "display_name": "Python [conda env:base] *",
   "language": "python",
   "name": "conda-base-py"
  },
  "language_info": {
   "codemirror_mode": {
    "name": "ipython",
    "version": 3
   },
   "file_extension": ".py",
   "mimetype": "text/x-python",
   "name": "python",
   "nbconvert_exporter": "python",
   "pygments_lexer": "ipython3",
   "version": "3.13.5"
  }
 },
 "nbformat": 4,
 "nbformat_minor": 5
}
