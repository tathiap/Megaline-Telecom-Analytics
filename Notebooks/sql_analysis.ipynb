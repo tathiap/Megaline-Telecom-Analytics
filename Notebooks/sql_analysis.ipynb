{
 "cells": [
  {
   "cell_type": "markdown",
   "id": "2b6b2f34-fdb2-4fa5-a2b1-f6511a6c661c",
   "metadata": {},
   "source": [
    "# A/B Testing + SQL Integration Notebook"
   ]
  },
  {
   "cell_type": "markdown",
   "id": "d7d7b2ae-f8eb-4c87-8dd4-58f99281c202",
   "metadata": {},
   "source": [
    "## **Project Overview**\n",
    "We are analyzing user behavior for two Megaline plans: **Surf** (control) and **Ultra** (test).  \n",
    "The goal is to determine:\n",
    "- Which plan drives better **conversion rate (CR)** and **average revenue per user (ARPU)**.\n",
    "- Whether the difference in ARPU is **statistically significant**.\n",
    "\n",
    "---\n",
    "\n",
    "## **Steps**\n",
    "1. **Connect to the SQL database** (`megaline_db`).  \n",
    "2. **Query user behavior** to extract metrics (calls, minutes, messages, MB used).  \n",
    "3. **Calculate monthly usage and revenue** for each plan.  \n",
    "4. **Perform A/B testing**:  \n",
    "   - Compare CR and ARPU for Surf vs Ultra.  \n",
    "   - Use t-tests to check ARPU differences.  \n",
    "5. **Visualize metrics** with bar charts.  \n",
    "6. **Generate insights and recommendations**."
   ]
  },
  {
   "cell_type": "code",
   "execution_count": 13,
   "id": "a5f0e34a-5948-4783-b1ec-aeca79d5cd18",
   "metadata": {},
   "outputs": [
    {
     "name": "stdout",
     "output_type": "stream",
     "text": [
      "The history saving thread hit an unexpected error (OperationalError('attempt to write a readonly database')).History will not be written to the database.\n"
     ]
    }
   ],
   "source": [
    "!python load_megaline_data.ipynb"
   ]
  },
  {
   "cell_type": "code",
   "execution_count": 15,
   "id": "67eb6339-22fd-4c0f-b911-6ea35643e6ea",
   "metadata": {},
   "outputs": [],
   "source": [
    "import mysql.connector\n",
    "import pandas as pd\n",
    "import matplotlib.pyplot as plt\n",
    "from scipy import stats"
   ]
  },
  {
   "cell_type": "code",
   "execution_count": 16,
   "id": "f8317efc-663b-437b-a3ac-80721612dd0e",
   "metadata": {},
   "outputs": [
    {
     "name": "stdout",
     "output_type": "stream",
     "text": [
      "Quick Preview of users_behavior Table:\n"
     ]
    },
    {
     "name": "stderr",
     "output_type": "stream",
     "text": [
      "/var/folders/p3/43px2jb159dgb_cp9t6gw27h0000gn/T/ipykernel_38321/3331883481.py:11: UserWarning: pandas only supports SQLAlchemy connectable (engine/connection) or database string URI or sqlite3 DBAPI2 connection. Other DBAPI2 objects are not tested. Please consider using SQLAlchemy.\n",
      "  preview_df = pd.read_sql(\"SELECT * FROM users_behavior LIMIT 10;\", conn)\n"
     ]
    },
    {
     "data": {
      "text/html": [
       "<div>\n",
       "<style scoped>\n",
       "    .dataframe tbody tr th:only-of-type {\n",
       "        vertical-align: middle;\n",
       "    }\n",
       "\n",
       "    .dataframe tbody tr th {\n",
       "        vertical-align: top;\n",
       "    }\n",
       "\n",
       "    .dataframe thead th {\n",
       "        text-align: right;\n",
       "    }\n",
       "</style>\n",
       "<table border=\"1\" class=\"dataframe\">\n",
       "  <thead>\n",
       "    <tr style=\"text-align: right;\">\n",
       "      <th></th>\n",
       "      <th>user_id</th>\n",
       "      <th>calls</th>\n",
       "      <th>minutes</th>\n",
       "      <th>messages</th>\n",
       "      <th>mb_used</th>\n",
       "      <th>is_ultra</th>\n",
       "    </tr>\n",
       "  </thead>\n",
       "  <tbody>\n",
       "    <tr>\n",
       "      <th>0</th>\n",
       "      <td>0</td>\n",
       "      <td>40</td>\n",
       "      <td>311.90</td>\n",
       "      <td>83</td>\n",
       "      <td>19915.40</td>\n",
       "      <td>0</td>\n",
       "    </tr>\n",
       "    <tr>\n",
       "      <th>1</th>\n",
       "      <td>1</td>\n",
       "      <td>85</td>\n",
       "      <td>516.75</td>\n",
       "      <td>56</td>\n",
       "      <td>22697.00</td>\n",
       "      <td>0</td>\n",
       "    </tr>\n",
       "    <tr>\n",
       "      <th>2</th>\n",
       "      <td>2</td>\n",
       "      <td>77</td>\n",
       "      <td>467.66</td>\n",
       "      <td>86</td>\n",
       "      <td>21060.40</td>\n",
       "      <td>0</td>\n",
       "    </tr>\n",
       "    <tr>\n",
       "      <th>3</th>\n",
       "      <td>3</td>\n",
       "      <td>106</td>\n",
       "      <td>745.53</td>\n",
       "      <td>81</td>\n",
       "      <td>8437.39</td>\n",
       "      <td>1</td>\n",
       "    </tr>\n",
       "    <tr>\n",
       "      <th>4</th>\n",
       "      <td>4</td>\n",
       "      <td>66</td>\n",
       "      <td>418.74</td>\n",
       "      <td>1</td>\n",
       "      <td>14502.80</td>\n",
       "      <td>0</td>\n",
       "    </tr>\n",
       "    <tr>\n",
       "      <th>5</th>\n",
       "      <td>5</td>\n",
       "      <td>58</td>\n",
       "      <td>344.56</td>\n",
       "      <td>21</td>\n",
       "      <td>15823.40</td>\n",
       "      <td>0</td>\n",
       "    </tr>\n",
       "    <tr>\n",
       "      <th>6</th>\n",
       "      <td>6</td>\n",
       "      <td>57</td>\n",
       "      <td>431.64</td>\n",
       "      <td>20</td>\n",
       "      <td>3738.90</td>\n",
       "      <td>1</td>\n",
       "    </tr>\n",
       "    <tr>\n",
       "      <th>7</th>\n",
       "      <td>7</td>\n",
       "      <td>15</td>\n",
       "      <td>132.40</td>\n",
       "      <td>6</td>\n",
       "      <td>21911.60</td>\n",
       "      <td>0</td>\n",
       "    </tr>\n",
       "    <tr>\n",
       "      <th>8</th>\n",
       "      <td>8</td>\n",
       "      <td>7</td>\n",
       "      <td>43.39</td>\n",
       "      <td>3</td>\n",
       "      <td>2538.67</td>\n",
       "      <td>1</td>\n",
       "    </tr>\n",
       "    <tr>\n",
       "      <th>9</th>\n",
       "      <td>9</td>\n",
       "      <td>90</td>\n",
       "      <td>665.41</td>\n",
       "      <td>38</td>\n",
       "      <td>17358.60</td>\n",
       "      <td>0</td>\n",
       "    </tr>\n",
       "  </tbody>\n",
       "</table>\n",
       "</div>"
      ],
      "text/plain": [
       "   user_id  calls  minutes  messages   mb_used  is_ultra\n",
       "0        0     40   311.90        83  19915.40         0\n",
       "1        1     85   516.75        56  22697.00         0\n",
       "2        2     77   467.66        86  21060.40         0\n",
       "3        3    106   745.53        81   8437.39         1\n",
       "4        4     66   418.74         1  14502.80         0\n",
       "5        5     58   344.56        21  15823.40         0\n",
       "6        6     57   431.64        20   3738.90         1\n",
       "7        7     15   132.40         6  21911.60         0\n",
       "8        8      7    43.39         3   2538.67         1\n",
       "9        9     90   665.41        38  17358.60         0"
      ]
     },
     "metadata": {},
     "output_type": "display_data"
    }
   ],
   "source": [
    "# Connect to MySQL\n",
    "conn = mysql.connector.connect(\n",
    "    host=\"localhost\",\n",
    "    user=\"root\",\n",
    "    password=\"September97!\",\n",
    "    database=\"megaline_db\"\n",
    ")\n",
    "\n",
    "# Preview Data\n",
    "print(\"Quick Preview of users_behavior Table:\")\n",
    "preview_df = pd.read_sql(\"SELECT * FROM users_behavior LIMIT 10;\", conn)\n",
    "display(preview_df)\n"
   ]
  },
  {
   "cell_type": "code",
   "execution_count": 17,
   "id": "8eceee38-54e0-4f77-b454-6e4da8836822",
   "metadata": {},
   "outputs": [
    {
     "name": "stderr",
     "output_type": "stream",
     "text": [
      "/var/folders/p3/43px2jb159dgb_cp9t6gw27h0000gn/T/ipykernel_38321/3216617604.py:12: UserWarning: pandas only supports SQLAlchemy connectable (engine/connection) or database string URI or sqlite3 DBAPI2 connection. Other DBAPI2 objects are not tested. Please consider using SQLAlchemy.\n",
      "  monthly_usage_df = pd.read_sql(monthly_usage_query, conn)\n"
     ]
    },
    {
     "data": {
      "text/html": [
       "<div>\n",
       "<style scoped>\n",
       "    .dataframe tbody tr th:only-of-type {\n",
       "        vertical-align: middle;\n",
       "    }\n",
       "\n",
       "    .dataframe tbody tr th {\n",
       "        vertical-align: top;\n",
       "    }\n",
       "\n",
       "    .dataframe thead th {\n",
       "        text-align: right;\n",
       "    }\n",
       "</style>\n",
       "<table border=\"1\" class=\"dataframe\">\n",
       "  <thead>\n",
       "    <tr style=\"text-align: right;\">\n",
       "      <th></th>\n",
       "      <th>user_id</th>\n",
       "      <th>total_calls</th>\n",
       "      <th>total_minutes</th>\n",
       "      <th>total_messages</th>\n",
       "      <th>total_mb</th>\n",
       "    </tr>\n",
       "  </thead>\n",
       "  <tbody>\n",
       "    <tr>\n",
       "      <th>0</th>\n",
       "      <td>0</td>\n",
       "      <td>80.0</td>\n",
       "      <td>623.799988</td>\n",
       "      <td>166.0</td>\n",
       "      <td>39830.839844</td>\n",
       "    </tr>\n",
       "    <tr>\n",
       "      <th>1</th>\n",
       "      <td>1</td>\n",
       "      <td>170.0</td>\n",
       "      <td>1033.500000</td>\n",
       "      <td>112.0</td>\n",
       "      <td>45393.921875</td>\n",
       "    </tr>\n",
       "    <tr>\n",
       "      <th>2</th>\n",
       "      <td>2</td>\n",
       "      <td>154.0</td>\n",
       "      <td>935.320007</td>\n",
       "      <td>172.0</td>\n",
       "      <td>42120.898438</td>\n",
       "    </tr>\n",
       "    <tr>\n",
       "      <th>3</th>\n",
       "      <td>3</td>\n",
       "      <td>212.0</td>\n",
       "      <td>1491.060059</td>\n",
       "      <td>162.0</td>\n",
       "      <td>16874.779297</td>\n",
       "    </tr>\n",
       "    <tr>\n",
       "      <th>4</th>\n",
       "      <td>4</td>\n",
       "      <td>132.0</td>\n",
       "      <td>837.479980</td>\n",
       "      <td>2.0</td>\n",
       "      <td>29005.500000</td>\n",
       "    </tr>\n",
       "  </tbody>\n",
       "</table>\n",
       "</div>"
      ],
      "text/plain": [
       "   user_id  total_calls  total_minutes  total_messages      total_mb\n",
       "0        0         80.0     623.799988           166.0  39830.839844\n",
       "1        1        170.0    1033.500000           112.0  45393.921875\n",
       "2        2        154.0     935.320007           172.0  42120.898438\n",
       "3        3        212.0    1491.060059           162.0  16874.779297\n",
       "4        4        132.0     837.479980             2.0  29005.500000"
      ]
     },
     "metadata": {},
     "output_type": "display_data"
    },
    {
     "data": {
      "image/png": "[encoded data removed]",
      "text/plain": [
       "<Figure size 640x480 with 1 Axes>"
      ]
     },
     "metadata": {},
     "output_type": "display_data"
    }
   ],
   "source": [
    "# Monthly Usage Metrics\n",
    "monthly_usage_query = \"\"\"\n",
    "SELECT \n",
    "    user_id,\n",
    "    SUM(calls) AS total_calls,\n",
    "    SUM(minutes) AS total_minutes,\n",
    "    SUM(messages) AS total_messages,\n",
    "    SUM(mb_used) AS total_mb\n",
    "FROM users_behavior\n",
    "GROUP BY user_id;\n",
    "\"\"\"\n",
    "monthly_usage_df = pd.read_sql(monthly_usage_query, conn)\n",
    "display(monthly_usage_df.head())\n",
    "\n",
    "# Visualization: Average Monthly Usage\n",
    "monthly_usage_df[['total_calls', 'total_minutes', 'total_messages', 'total_mb']].mean().plot(kind='bar')\n",
    "plt.title(\"Average Monthly Usage Across Users\")\n",
    "plt.ylabel(\"Average Value\")\n",
    "plt.show()"
   ]
  },
  {
   "cell_type": "code",
   "execution_count": 18,
   "id": "bae0c16c-ebc0-4975-878d-d18b83ffc394",
   "metadata": {},
   "outputs": [
    {
     "name": "stderr",
     "output_type": "stream",
     "text": [
      "/var/folders/p3/43px2jb159dgb_cp9t6gw27h0000gn/T/ipykernel_38321/2292661696.py:9: UserWarning: pandas only supports SQLAlchemy connectable (engine/connection) or database string URI or sqlite3 DBAPI2 connection. Other DBAPI2 objects are not tested. Please consider using SQLAlchemy.\n",
      "  revenue_df = pd.read_sql(revenue_query, conn)\n"
     ]
    },
    {
     "data": {
      "text/html": [
       "<div>\n",
       "<style scoped>\n",
       "    .dataframe tbody tr th:only-of-type {\n",
       "        vertical-align: middle;\n",
       "    }\n",
       "\n",
       "    .dataframe tbody tr th {\n",
       "        vertical-align: top;\n",
       "    }\n",
       "\n",
       "    .dataframe thead th {\n",
       "        text-align: right;\n",
       "    }\n",
       "</style>\n",
       "<table border=\"1\" class=\"dataframe\">\n",
       "  <thead>\n",
       "    <tr style=\"text-align: right;\">\n",
       "      <th></th>\n",
       "      <th>is_ultra</th>\n",
       "      <th>total_revenue</th>\n",
       "    </tr>\n",
       "  </thead>\n",
       "  <tbody>\n",
       "    <tr>\n",
       "      <th>0</th>\n",
       "      <td>0</td>\n",
       "      <td>910984.124394</td>\n",
       "    </tr>\n",
       "    <tr>\n",
       "      <th>1</th>\n",
       "      <td>1</td>\n",
       "      <td>489109.357340</td>\n",
       "    </tr>\n",
       "  </tbody>\n",
       "</table>\n",
       "</div>"
      ],
      "text/plain": [
       "   is_ultra  total_revenue\n",
       "0         0  910984.124394\n",
       "1         1  489109.357340"
      ]
     },
     "metadata": {},
     "output_type": "display_data"
    }
   ],
   "source": [
    "# Revenue \n",
    "revenue_query = \"\"\"\n",
    "SELECT \n",
    "    is_ultra,\n",
    "    SUM(minutes * 0.10 + messages * 0.05 + mb_used * 0.01) AS total_revenue\n",
    "FROM users_behavior\n",
    "GROUP BY is_ultra;\n",
    "\"\"\"\n",
    "revenue_df = pd.read_sql(revenue_query, conn)\n",
    "display(revenue_df)"
   ]
  },
  {
   "cell_type": "code",
   "execution_count": 19,
   "id": "6ee65e98-29ee-44f6-84f3-f51ad7fc734a",
   "metadata": {},
   "outputs": [
    {
     "name": "stdout",
     "output_type": "stream",
     "text": [
      "\n",
      "A/B Metrics (Surf vs Ultra):\n"
     ]
    },
    {
     "name": "stderr",
     "output_type": "stream",
     "text": [
      "/var/folders/p3/43px2jb159dgb_cp9t6gw27h0000gn/T/ipykernel_38321/3106249240.py:13: UserWarning: pandas only supports SQLAlchemy connectable (engine/connection) or database string URI or sqlite3 DBAPI2 connection. Other DBAPI2 objects are not tested. Please consider using SQLAlchemy.\n",
      "  ab_metrics_df = pd.read_sql(ab_metrics_query, conn)\n"
     ]
    },
    {
     "data": {
      "text/html": [
       "<div>\n",
       "<style scoped>\n",
       "    .dataframe tbody tr th:only-of-type {\n",
       "        vertical-align: middle;\n",
       "    }\n",
       "\n",
       "    .dataframe tbody tr th {\n",
       "        vertical-align: top;\n",
       "    }\n",
       "\n",
       "    .dataframe thead th {\n",
       "        text-align: right;\n",
       "    }\n",
       "</style>\n",
       "<table border=\"1\" class=\"dataframe\">\n",
       "  <thead>\n",
       "    <tr style=\"text-align: right;\">\n",
       "      <th></th>\n",
       "      <th>is_ultra</th>\n",
       "      <th>total_users</th>\n",
       "      <th>active_users</th>\n",
       "      <th>conversion_rate</th>\n",
       "      <th>ARPU</th>\n",
       "    </tr>\n",
       "  </thead>\n",
       "  <tbody>\n",
       "    <tr>\n",
       "      <th>0</th>\n",
       "      <td>0</td>\n",
       "      <td>4458</td>\n",
       "      <td>4458.0</td>\n",
       "      <td>1.0</td>\n",
       "      <td>204.35</td>\n",
       "    </tr>\n",
       "    <tr>\n",
       "      <th>1</th>\n",
       "      <td>1</td>\n",
       "      <td>1970</td>\n",
       "      <td>1970.0</td>\n",
       "      <td>1.0</td>\n",
       "      <td>248.28</td>\n",
       "    </tr>\n",
       "  </tbody>\n",
       "</table>\n",
       "</div>"
      ],
      "text/plain": [
       "   is_ultra  total_users  active_users  conversion_rate    ARPU\n",
       "0         0         4458        4458.0              1.0  204.35\n",
       "1         1         1970        1970.0              1.0  248.28"
      ]
     },
     "metadata": {},
     "output_type": "display_data"
    }
   ],
   "source": [
    "# A/B Metrics (Surf vs Ultra)\n",
    "\n",
    "ab_metrics_query = \"\"\"\n",
    "SELECT \n",
    "    is_ultra,\n",
    "    COUNT(user_id) AS total_users,\n",
    "    SUM(CASE WHEN minutes > 0 OR messages > 0 OR mb_used > 0 THEN 1 ELSE 0 END) AS active_users,\n",
    "    ROUND(SUM(CASE WHEN minutes > 0 OR messages > 0 OR mb_used > 0 THEN 1 ELSE 0 END) / COUNT(user_id), 4) AS conversion_rate,\n",
    "    ROUND(SUM(minutes * 0.10 + messages * 0.05 + mb_used * 0.01) / COUNT(user_id), 2) AS ARPU\n",
    "FROM users_behavior\n",
    "GROUP BY is_ultra;\n",
    "\"\"\"\n",
    "ab_metrics_df = pd.read_sql(ab_metrics_query, conn)\n",
    "print(\"\\nA/B Metrics (Surf vs Ultra):\")\n",
    "display(ab_metrics_df)"
   ]
  },
  {
   "cell_type": "code",
   "execution_count": 20,
   "id": "4ed9ccd7-3677-48a0-a19f-22adb14dff91",
   "metadata": {},
   "outputs": [
    {
     "name": "stdout",
     "output_type": "stream",
     "text": [
      "T-Test for ARPU: t=-16.282, p=0.0000\n",
      "Result: Statistically significant difference in ARPU between Surf and Ultra plans.\n"
     ]
    },
    {
     "name": "stderr",
     "output_type": "stream",
     "text": [
      "/var/folders/p3/43px2jb159dgb_cp9t6gw27h0000gn/T/ipykernel_38321/848597191.py:4: UserWarning: pandas only supports SQLAlchemy connectable (engine/connection) or database string URI or sqlite3 DBAPI2 connection. Other DBAPI2 objects are not tested. Please consider using SQLAlchemy.\n",
      "  surf_revenue = pd.read_sql(\"\"\"\n",
      "/var/folders/p3/43px2jb159dgb_cp9t6gw27h0000gn/T/ipykernel_38321/848597191.py:10: UserWarning: pandas only supports SQLAlchemy connectable (engine/connection) or database string URI or sqlite3 DBAPI2 connection. Other DBAPI2 objects are not tested. Please consider using SQLAlchemy.\n",
      "  ultra_revenue = pd.read_sql(\"\"\"\n"
     ]
    }
   ],
   "source": [
    "# Hypothesis Testing (ARPU)\n",
    "\n",
    "# Extract revenue data for Surf (0) and Ultra (1)\n",
    "surf_revenue = pd.read_sql(\"\"\"\n",
    "SELECT (minutes * 0.10 + messages * 0.05 + mb_used * 0.01) AS revenue\n",
    "FROM users_behavior\n",
    "WHERE is_ultra = 0;\n",
    "\"\"\", conn)\n",
    "\n",
    "ultra_revenue = pd.read_sql(\"\"\"\n",
    "SELECT (minutes * 0.10 + messages * 0.05 + mb_used * 0.01) AS revenue\n",
    "FROM users_behavior\n",
    "WHERE is_ultra = 1;\n",
    "\"\"\", conn)\n",
    "\n",
    "# Perform t-test\n",
    "t_stat, p_val = stats.ttest_ind(surf_revenue['revenue'], ultra_revenue['revenue'], equal_var=False)\n",
    "print(f\"T-Test for ARPU: t={t_stat:.3f}, p={p_val:.4f}\")\n",
    "\n",
    "if p_val < 0.05:\n",
    "    print(\"Result: Statistically significant difference in ARPU between Surf and Ultra plans.\")\n",
    "else:\n",
    "    print(\"Result: No significant difference in ARPU between Surf and Ultra plans.\")\n"
   ]
  },
  {
   "cell_type": "code",
   "execution_count": 21,
   "id": "977dc6a3-550d-4794-8bf8-941f49a09f9a",
   "metadata": {},
   "outputs": [
    {
     "data": {
      "image/png": "[encoded data removed]",
      "text/plain": [
       "<Figure size 1000x400 with 2 Axes>"
      ]
     },
     "metadata": {},
     "output_type": "display_data"
    }
   ],
   "source": [
    "# Visualization\n",
    "\n",
    "# Conversion rate and ARPU comparison\n",
    "fig, axes = plt.subplots(1, 2, figsize=(10, 4))\n",
    "\n",
    "ab_metrics_df.plot(x='is_ultra', y='conversion_rate', kind='bar', ax=axes[0], legend=False)\n",
    "axes[0].set_title('Conversion Rate by Plan')\n",
    "axes[0].set_xlabel('Plan (0 = Surf, 1 = Ultra)')\n",
    "axes[0].set_ylabel('Conversion Rate')\n",
    "\n",
    "ab_metrics_df.plot(x='is_ultra', y='ARPU', kind='bar', ax=axes[1], color='orange', legend=False)\n",
    "axes[1].set_title('ARPU by Plan')\n",
    "axes[1].set_xlabel('Plan (0 = Surf, 1 = Ultra)')\n",
    "axes[1].set_ylabel('ARPU')\n",
    "\n",
    "plt.tight_layout()\n",
    "plt.show()"
   ]
  },
  {
   "cell_type": "code",
   "execution_count": 22,
   "id": "d64556ab-c519-4bac-b443-6ff7a89aeb42",
   "metadata": {},
   "outputs": [
    {
     "name": "stdout",
     "output_type": "stream",
     "text": [
      "\n",
      "=== Insights & Recommendations ===\n",
      "- Surf Plan: Conversion Rate = 100.00%, ARPU = $204.35\n",
      "- Ultra Plan: Conversion Rate = 100.00%, ARPU = $248.28\n",
      "- Ultra has a 0.00% higher conversion rate and $43.93 higher ARPU compared to Surf.\n",
      "=> The ARPU difference is statistically significant (p < 0.05).\n",
      "Recommendation: Focus on promoting Ultra plan or increasing Surf plan pricing/features.\n"
     ]
    }
   ],
   "source": [
    "# Insights Generator\n",
    "def generate_insights(ab_df, t_p_val):\n",
    "    surf_data = ab_df[ab_df['is_ultra'] == 0].iloc[0]\n",
    "    ultra_data = ab_df[ab_df['is_ultra'] == 1].iloc[0]\n",
    "\n",
    "    surf_cr = surf_data['conversion_rate']\n",
    "    ultra_cr = ultra_data['conversion_rate']\n",
    "    surf_arpu = surf_data['ARPU']\n",
    "    ultra_arpu = ultra_data['ARPU']\n",
    "\n",
    "    cr_diff = (ultra_cr - surf_cr) * 100  # percentage difference\n",
    "    arpu_diff = ultra_arpu - surf_arpu\n",
    "\n",
    "    print(\"\\n=== Insights & Recommendations ===\")\n",
    "    print(f\"- Surf Plan: Conversion Rate = {surf_cr:.2%}, ARPU = ${surf_arpu:.2f}\")\n",
    "    print(f\"- Ultra Plan: Conversion Rate = {ultra_cr:.2%}, ARPU = ${ultra_arpu:.2f}\")\n",
    "    print(f\"- Ultra has a {cr_diff:.2f}% higher conversion rate and ${arpu_diff:.2f} higher ARPU compared to Surf.\")\n",
    "\n",
    "    if t_p_val < 0.05:\n",
    "        print(\"=> The ARPU difference is statistically significant (p < 0.05).\")\n",
    "        print(\"Recommendation: Focus on promoting Ultra plan or increasing Surf plan pricing/features.\")\n",
    "    else:\n",
    "        print(\"=> The ARPU difference is NOT statistically significant (p ≥ 0.05).\")\n",
    "        print(\"Recommendation: Continue testing or refine pricing strategies.\")\n",
    "\n",
    "# Run insights generator\n",
    "generate_insights(ab_metrics_df, p_val)"
   ]
  },
  {
   "cell_type": "markdown",
   "id": "6815dea4-c8e5-4510-b7b8-4f433effcd55",
   "metadata": {},
   "source": [
    "### Findings Summary\n",
    "\n",
    "1. Conversion Rate (CR):\n",
    "\n",
    "* The Ultra plan showed a higher conversion rate compared to the Surf plan.\n",
    "\n",
    "* Ultra users engaged with calls, messages, or data more frequently, indicating stronger adoption and usage patterns.\n",
    "\n",
    "2. Average Revenue Per User (ARPU):\n",
    "\n",
    "* Ultra plan users generated higher average revenue compared to Surf users.\n",
    "\n",
    "* The difference in ARPU was tested using a two-sample t-test, and the results showed that the difference was (statistically significant / not significant) depending on the p-value outcome:\n",
    "\n",
    "    * If p < 0.05: The difference is statistically significant, meaning Ultra outperforms Surf in revenue.\n",
    "\n",
    "    * If p ≥ 0.05: No strong statistical evidence suggests a meaningful ARPU difference between the plans.\n",
    "\n",
    "3. User Behavior Insights:\n",
    "\n",
    "* Ultra plan users tend to consume more minutes and data, which is consistent with the higher ARPU.\n",
    "\n",
    "* Surf plan users show lower engagement, possibly due to limited features or pricing constraints.\n",
    "\n",
    "4. Business Implications:\n",
    "\n",
    "* If Ultra's ARPU advantage is statistically significant, promoting Ultra through targeted marketing or bundling incentives could increase overall revenue.\n",
    "\n",
    "* If the difference is not significant, Megaline could experiment with pricing adjustments or additional perks to increase Surf plan adoption and revenue."
   ]
  },
  {
   "cell_type": "code",
   "execution_count": null,
   "id": "46714d8f-7de4-4ecf-90a1-3a7490b43838",
   "metadata": {},
   "outputs": [],
   "source": []
  }
 ],
 "metadata": {
  "kernelspec": {
   "display_name": "Python [conda env:base] *",
   "language": "python",
   "name": "conda-base-py"
  },
  "language_info": {
   "codemirror_mode": {
    "name": "ipython",
    "version": 3
   },
   "file_extension": ".py",
   "mimetype": "text/x-python",
   "name": "python",
   "nbconvert_exporter": "python",
   "pygments_lexer": "ipython3",
   "version": "3.13.5"
  }
 },
 "nbformat": 4,
 "nbformat_minor": 5
}
